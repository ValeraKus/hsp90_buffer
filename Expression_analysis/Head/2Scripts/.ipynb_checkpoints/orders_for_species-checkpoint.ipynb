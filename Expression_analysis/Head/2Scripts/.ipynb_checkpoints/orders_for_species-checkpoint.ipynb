{
 "cells": [
  {
   "cell_type": "code",
   "execution_count": 1,
   "metadata": {},
   "outputs": [],
   "source": [
    "from wikiparser import infoBox"
   ]
  },
  {
   "cell_type": "code",
   "execution_count": 2,
   "metadata": {},
   "outputs": [],
   "source": [
    "species = [s.strip() for s in open('../../Body/2_Derived/kn.kn.vs.gen.len.species.list.txt').readlines()]"
   ]
  },
  {
   "cell_type": "code",
   "execution_count": 3,
   "metadata": {},
   "outputs": [],
   "source": [
    "species = [s.replace(' ', '_') for s in species]"
   ]
  },
  {
   "cell_type": "code",
   "execution_count": 4,
   "metadata": {},
   "outputs": [],
   "source": [
    "orders = []\n",
    "for sp in species:\n",
    "    link = 'https://en.wikipedia.org/wiki/' + sp\n",
    "    taxonomy = infoBox(link)\n",
    "    orders.append(taxonomy['Order:'])"
   ]
  },
  {
   "cell_type": "code",
   "execution_count": 9,
   "metadata": {},
   "outputs": [],
   "source": [
    "f = open('../../Body/2_Derived/kn.kn.vs.gen.len.species.orders.txt', 'w')\n",
    "f.write('species,order'+'\\n')\n",
    "for sp, order in zip(species,orders):\n",
    "    f.write(sp+','+order+'\\n')\n",
    "f.close()\n",
    "    "
   ]
  }
 ],
 "metadata": {
  "kernelspec": {
   "display_name": "Python 3",
   "language": "python",
   "name": "python3"
  },
  "language_info": {
   "codemirror_mode": {
    "name": "ipython",
    "version": 3
   },
   "file_extension": ".py",
   "mimetype": "text/x-python",
   "name": "python",
   "nbconvert_exporter": "python",
   "pygments_lexer": "ipython3",
   "version": "3.7.4"
  }
 },
 "nbformat": 4,
 "nbformat_minor": 2
}
