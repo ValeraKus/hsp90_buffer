{
 "cells": [
  {
   "cell_type": "code",
   "execution_count": 44,
   "metadata": {},
   "outputs": [],
   "source": [
    "import numpy as np\n",
    "import pandas as pd\n",
    "import matplotlib.pylab as plt\n",
    "import requests\n",
    "import re\n",
    "%matplotlib inline"
   ]
  },
  {
   "cell_type": "code",
   "execution_count": 66,
   "metadata": {},
   "outputs": [],
   "source": [
    "link = re.compile('https://www.ebi.ac.uk/goldman-srv/sips/result_tab/eutheria/ENSP[0-9].')\n",
    "#table = requests.get(link)"
   ]
  },
  {
   "cell_type": "code",
   "execution_count": 67,
   "metadata": {},
   "outputs": [
    {
     "data": {
      "text/plain": [
       "re.compile(r'https://www.ebi.ac.uk/goldman-srv/sips/result_tab/eutheria/ENSP[0-9].',\n",
       "re.UNICODE)"
      ]
     },
     "execution_count": 67,
     "metadata": {},
     "output_type": "execute_result"
    }
   ],
   "source": [
    "link"
   ]
  },
  {
   "cell_type": "code",
   "execution_count": 21,
   "metadata": {},
   "outputs": [],
   "source": [
    "prot = pd.DataFrame([i.split('\\t') for i in table.text.split('\\n')][1:], columns = [i.split('\\t') for i in table.text.split('\\n')][0])"
   ]
  },
  {
   "cell_type": "code",
   "execution_count": 22,
   "metadata": {},
   "outputs": [
    {
     "data": {
      "text/html": [
       "<div>\n",
       "<style scoped>\n",
       "    .dataframe tbody tr th:only-of-type {\n",
       "        vertical-align: middle;\n",
       "    }\n",
       "\n",
       "    .dataframe tbody tr th {\n",
       "        vertical-align: top;\n",
       "    }\n",
       "\n",
       "    .dataframe thead th {\n",
       "        text-align: right;\n",
       "    }\n",
       "</style>\n",
       "<table border=\"1\" class=\"dataframe\">\n",
       "  <thead>\n",
       "    <tr style=\"text-align: right;\">\n",
       "      <th></th>\n",
       "      <th>id</th>\n",
       "      <th>ensembl_id</th>\n",
       "      <th>dataset_id</th>\n",
       "      <th>aln_id</th>\n",
       "      <th>pdb_id</th>\n",
       "      <th>ensembl_pos</th>\n",
       "      <th>uniprot_pos</th>\n",
       "      <th>pdb_pos</th>\n",
       "      <th>pdb_chain</th>\n",
       "      <th>secondary_str</th>\n",
       "      <th>rsa</th>\n",
       "      <th>omega</th>\n",
       "      <th>pvalue</th>\n",
       "      <th>adj_pvalue</th>\n",
       "    </tr>\n",
       "  </thead>\n",
       "  <tbody>\n",
       "    <tr>\n",
       "      <td>0</td>\n",
       "      <td>656859</td>\n",
       "      <td>ENSP00000360609</td>\n",
       "      <td>1</td>\n",
       "      <td>1525_1</td>\n",
       "      <td>3nmq</td>\n",
       "      <td>8</td>\n",
       "      <td>7</td>\n",
       "      <td>13</td>\n",
       "      <td>A</td>\n",
       "      <td>-</td>\n",
       "      <td>1.0</td>\n",
       "      <td>0.0</td>\n",
       "      <td>3.3255e-06</td>\n",
       "      <td>5.43249618321e-06</td>\n",
       "    </tr>\n",
       "    <tr>\n",
       "      <td>1</td>\n",
       "      <td>656860</td>\n",
       "      <td>ENSP00000360609</td>\n",
       "      <td>1</td>\n",
       "      <td>1525_1</td>\n",
       "      <td>3nmq</td>\n",
       "      <td>9</td>\n",
       "      <td>8</td>\n",
       "      <td>14</td>\n",
       "      <td>A</td>\n",
       "      <td>T</td>\n",
       "      <td>0.850515463918</td>\n",
       "      <td>0.0379</td>\n",
       "      <td>1.3776e-07</td>\n",
       "      <td>3.77956923077e-07</td>\n",
       "    </tr>\n",
       "    <tr>\n",
       "      <td>2</td>\n",
       "      <td>656861</td>\n",
       "      <td>ENSP00000360609</td>\n",
       "      <td>1</td>\n",
       "      <td>1525_1</td>\n",
       "      <td>3nmq</td>\n",
       "      <td>10</td>\n",
       "      <td>9</td>\n",
       "      <td>15</td>\n",
       "      <td>A</td>\n",
       "      <td>T</td>\n",
       "      <td>0.39175257732</td>\n",
       "      <td>0.0</td>\n",
       "      <td>2.2102e-09</td>\n",
       "      <td>1.47807125e-08</td>\n",
       "    </tr>\n",
       "    <tr>\n",
       "      <td>3</td>\n",
       "      <td>656862</td>\n",
       "      <td>ENSP00000360609</td>\n",
       "      <td>1</td>\n",
       "      <td>1525_1</td>\n",
       "      <td>3nmq</td>\n",
       "      <td>11</td>\n",
       "      <td>10</td>\n",
       "      <td>16</td>\n",
       "      <td>A</td>\n",
       "      <td>-</td>\n",
       "      <td>0.670103092784</td>\n",
       "      <td>0.0</td>\n",
       "      <td>2.1282e-09</td>\n",
       "      <td>1.46914451613e-08</td>\n",
       "    </tr>\n",
       "    <tr>\n",
       "      <td>4</td>\n",
       "      <td>656863</td>\n",
       "      <td>ENSP00000360609</td>\n",
       "      <td>1</td>\n",
       "      <td>1525_1</td>\n",
       "      <td>3nmq</td>\n",
       "      <td>12</td>\n",
       "      <td>11</td>\n",
       "      <td>17</td>\n",
       "      <td>A</td>\n",
       "      <td>-</td>\n",
       "      <td>0.492957746479</td>\n",
       "      <td>0.0</td>\n",
       "      <td>4.3895e-09</td>\n",
       "      <td>2.4085974359e-08</td>\n",
       "    </tr>\n",
       "  </tbody>\n",
       "</table>\n",
       "</div>"
      ],
      "text/plain": [
       "       id       ensembl_id dataset_id  aln_id pdb_id ensembl_pos uniprot_pos  \\\n",
       "0  656859  ENSP00000360609          1  1525_1   3nmq           8           7   \n",
       "1  656860  ENSP00000360609          1  1525_1   3nmq           9           8   \n",
       "2  656861  ENSP00000360609          1  1525_1   3nmq          10           9   \n",
       "3  656862  ENSP00000360609          1  1525_1   3nmq          11          10   \n",
       "4  656863  ENSP00000360609          1  1525_1   3nmq          12          11   \n",
       "\n",
       "  pdb_pos pdb_chain secondary_str             rsa   omega      pvalue  \\\n",
       "0      13         A             -             1.0     0.0  3.3255e-06   \n",
       "1      14         A             T  0.850515463918  0.0379  1.3776e-07   \n",
       "2      15         A             T   0.39175257732     0.0  2.2102e-09   \n",
       "3      16         A             -  0.670103092784     0.0  2.1282e-09   \n",
       "4      17         A             -  0.492957746479     0.0  4.3895e-09   \n",
       "\n",
       "          adj_pvalue  \n",
       "0  5.43249618321e-06  \n",
       "1  3.77956923077e-07  \n",
       "2     1.47807125e-08  \n",
       "3  1.46914451613e-08  \n",
       "4   2.4085974359e-08  "
      ]
     },
     "execution_count": 22,
     "metadata": {},
     "output_type": "execute_result"
    }
   ],
   "source": [
    "prot.head()"
   ]
  },
  {
   "cell_type": "code",
   "execution_count": 25,
   "metadata": {},
   "outputs": [],
   "source": [
    "prot_id = prot.ensembl_id[0]"
   ]
  },
  {
   "cell_type": "code",
   "execution_count": 37,
   "metadata": {},
   "outputs": [],
   "source": [
    "mean_omega = prot.omega.astype('float').mean()"
   ]
  },
  {
   "cell_type": "code",
   "execution_count": 39,
   "metadata": {},
   "outputs": [],
   "source": [
    "mean_omega_dict = {'protein' : [], 'mean_omega': []}"
   ]
  },
  {
   "cell_type": "code",
   "execution_count": 42,
   "metadata": {},
   "outputs": [],
   "source": [
    "mean_omega_dict['protein'].append('ENSHfhdsj')"
   ]
  },
  {
   "cell_type": "code",
   "execution_count": 43,
   "metadata": {},
   "outputs": [
    {
     "data": {
      "text/plain": [
       "{'protein': ['ENSP00000360609', 'ENSHfhdsj'], 'mean_omega': []}"
      ]
     },
     "execution_count": 43,
     "metadata": {},
     "output_type": "execute_result"
    }
   ],
   "source": [
    "mean_omega_dict"
   ]
  },
  {
   "cell_type": "code",
   "execution_count": 76,
   "metadata": {},
   "outputs": [
    {
     "ename": "HTTPError",
     "evalue": "404 Client Error: Not Found for url: http://www.biomart.org/biomart/martservice",
     "output_type": "error",
     "traceback": [
      "\u001b[0;31m---------------------------------------------------------------------------\u001b[0m",
      "\u001b[0;31mHTTPError\u001b[0m                                 Traceback (most recent call last)",
      "\u001b[0;32m<ipython-input-76-f27c01f9746c>\u001b[0m in \u001b[0;36m<module>\u001b[0;34m\u001b[0m\n\u001b[1;32m      4\u001b[0m         'ensembl_transcript_id','ensembl_peptide_id']\n\u001b[1;32m      5\u001b[0m \u001b[0;34m\u001b[0m\u001b[0m\n\u001b[0;32m----> 6\u001b[0;31m \u001b[0mserver\u001b[0m \u001b[0;34m=\u001b[0m \u001b[0mBiomartServer\u001b[0m\u001b[0;34m(\u001b[0m\u001b[0;34m\"http://www.biomart.org/biomart\"\u001b[0m\u001b[0;34m)\u001b[0m\u001b[0;34m\u001b[0m\u001b[0;34m\u001b[0m\u001b[0m\n\u001b[0m\u001b[1;32m      7\u001b[0m \u001b[0mhge\u001b[0m \u001b[0;34m=\u001b[0m \u001b[0mserver\u001b[0m\u001b[0;34m.\u001b[0m\u001b[0mdatasets\u001b[0m\u001b[0;34m[\u001b[0m\u001b[0;34m'hsapiens_gene_ensembl'\u001b[0m\u001b[0;34m]\u001b[0m\u001b[0;34m\u001b[0m\u001b[0;34m\u001b[0m\u001b[0m\n\u001b[1;32m      8\u001b[0m \u001b[0;34m\u001b[0m\u001b[0m\n",
      "\u001b[0;32m~/.local/lib/python3.7/site-packages/biomart/server.py\u001b[0m in \u001b[0;36m__init__\u001b[0;34m(self, url, **kwargs)\u001b[0m\n\u001b[1;32m     25\u001b[0m \u001b[0;34m\u001b[0m\u001b[0m\n\u001b[1;32m     26\u001b[0m         \u001b[0mself\u001b[0m\u001b[0;34m.\u001b[0m\u001b[0mis_alive\u001b[0m \u001b[0;34m=\u001b[0m \u001b[0;32mFalse\u001b[0m\u001b[0;34m\u001b[0m\u001b[0;34m\u001b[0m\u001b[0m\n\u001b[0;32m---> 27\u001b[0;31m         \u001b[0mself\u001b[0m\u001b[0;34m.\u001b[0m\u001b[0massert_alive\u001b[0m\u001b[0;34m(\u001b[0m\u001b[0;34m)\u001b[0m\u001b[0;34m\u001b[0m\u001b[0;34m\u001b[0m\u001b[0m\n\u001b[0m\u001b[1;32m     28\u001b[0m \u001b[0;34m\u001b[0m\u001b[0m\n\u001b[1;32m     29\u001b[0m     \u001b[0;32mdef\u001b[0m \u001b[0mget_verbose\u001b[0m\u001b[0;34m(\u001b[0m\u001b[0mself\u001b[0m\u001b[0;34m)\u001b[0m\u001b[0;34m:\u001b[0m\u001b[0;34m\u001b[0m\u001b[0;34m\u001b[0m\u001b[0m\n",
      "\u001b[0;32m~/.local/lib/python3.7/site-packages/biomart/server.py\u001b[0m in \u001b[0;36massert_alive\u001b[0;34m(self)\u001b[0m\n\u001b[1;32m     46\u001b[0m     \u001b[0;32mdef\u001b[0m \u001b[0massert_alive\u001b[0m\u001b[0;34m(\u001b[0m\u001b[0mself\u001b[0m\u001b[0;34m)\u001b[0m\u001b[0;34m:\u001b[0m\u001b[0;34m\u001b[0m\u001b[0;34m\u001b[0m\u001b[0m\n\u001b[1;32m     47\u001b[0m         \u001b[0;32mif\u001b[0m \u001b[0;32mnot\u001b[0m \u001b[0mself\u001b[0m\u001b[0;34m.\u001b[0m\u001b[0mis_alive\u001b[0m\u001b[0;34m:\u001b[0m\u001b[0;34m\u001b[0m\u001b[0;34m\u001b[0m\u001b[0m\n\u001b[0;32m---> 48\u001b[0;31m             \u001b[0mself\u001b[0m\u001b[0;34m.\u001b[0m\u001b[0mget_request\u001b[0m\u001b[0;34m(\u001b[0m\u001b[0;34m)\u001b[0m\u001b[0;34m\u001b[0m\u001b[0;34m\u001b[0m\u001b[0m\n\u001b[0m\u001b[1;32m     49\u001b[0m             \u001b[0mself\u001b[0m\u001b[0;34m.\u001b[0m\u001b[0mis_alive\u001b[0m \u001b[0;34m=\u001b[0m \u001b[0;32mTrue\u001b[0m\u001b[0;34m\u001b[0m\u001b[0;34m\u001b[0m\u001b[0m\n\u001b[1;32m     50\u001b[0m             \u001b[0;32mif\u001b[0m \u001b[0mself\u001b[0m\u001b[0;34m.\u001b[0m\u001b[0mverbose\u001b[0m\u001b[0;34m:\u001b[0m\u001b[0;34m\u001b[0m\u001b[0;34m\u001b[0m\u001b[0m\n",
      "\u001b[0;32m~/.local/lib/python3.7/site-packages/biomart/server.py\u001b[0m in \u001b[0;36mget_request\u001b[0;34m(self, **params)\u001b[0m\n\u001b[1;32m    102\u001b[0m         \u001b[0;32melse\u001b[0m\u001b[0;34m:\u001b[0m\u001b[0;34m\u001b[0m\u001b[0;34m\u001b[0m\u001b[0m\n\u001b[1;32m    103\u001b[0m             \u001b[0mr\u001b[0m \u001b[0;34m=\u001b[0m \u001b[0mrequests\u001b[0m\u001b[0;34m.\u001b[0m\u001b[0mget\u001b[0m\u001b[0;34m(\u001b[0m\u001b[0mself\u001b[0m\u001b[0;34m.\u001b[0m\u001b[0murl\u001b[0m\u001b[0;34m,\u001b[0m \u001b[0mproxies\u001b[0m \u001b[0;34m=\u001b[0m \u001b[0mproxies\u001b[0m\u001b[0;34m)\u001b[0m\u001b[0;34m\u001b[0m\u001b[0;34m\u001b[0m\u001b[0m\n\u001b[0;32m--> 104\u001b[0;31m         \u001b[0mr\u001b[0m\u001b[0;34m.\u001b[0m\u001b[0mraise_for_status\u001b[0m\u001b[0;34m(\u001b[0m\u001b[0;34m)\u001b[0m\u001b[0;34m\u001b[0m\u001b[0;34m\u001b[0m\u001b[0m\n\u001b[0m\u001b[1;32m    105\u001b[0m \u001b[0;34m\u001b[0m\u001b[0m\n\u001b[1;32m    106\u001b[0m         \u001b[0;32mreturn\u001b[0m \u001b[0mr\u001b[0m\u001b[0;34m\u001b[0m\u001b[0;34m\u001b[0m\u001b[0m\n",
      "\u001b[0;32m~/anaconda3/lib/python3.7/site-packages/requests/models.py\u001b[0m in \u001b[0;36mraise_for_status\u001b[0;34m(self)\u001b[0m\n\u001b[1;32m    938\u001b[0m \u001b[0;34m\u001b[0m\u001b[0m\n\u001b[1;32m    939\u001b[0m         \u001b[0;32mif\u001b[0m \u001b[0mhttp_error_msg\u001b[0m\u001b[0;34m:\u001b[0m\u001b[0;34m\u001b[0m\u001b[0;34m\u001b[0m\u001b[0m\n\u001b[0;32m--> 940\u001b[0;31m             \u001b[0;32mraise\u001b[0m \u001b[0mHTTPError\u001b[0m\u001b[0;34m(\u001b[0m\u001b[0mhttp_error_msg\u001b[0m\u001b[0;34m,\u001b[0m \u001b[0mresponse\u001b[0m\u001b[0;34m=\u001b[0m\u001b[0mself\u001b[0m\u001b[0;34m)\u001b[0m\u001b[0;34m\u001b[0m\u001b[0;34m\u001b[0m\u001b[0m\n\u001b[0m\u001b[1;32m    941\u001b[0m \u001b[0;34m\u001b[0m\u001b[0m\n\u001b[1;32m    942\u001b[0m     \u001b[0;32mdef\u001b[0m \u001b[0mclose\u001b[0m\u001b[0;34m(\u001b[0m\u001b[0mself\u001b[0m\u001b[0;34m)\u001b[0m\u001b[0;34m:\u001b[0m\u001b[0;34m\u001b[0m\u001b[0;34m\u001b[0m\u001b[0m\n",
      "\u001b[0;31mHTTPError\u001b[0m: 404 Client Error: Not Found for url: http://www.biomart.org/biomart/martservice"
     ]
    }
   ],
   "source": [
    "from biomart import BiomartServer\n",
    "\n",
    "atts = ['external_gene_name','external_gene_source','ensembl_gene_id',\n",
    "        'ensembl_transcript_id','ensembl_peptide_id']\n",
    "\n",
    "server = BiomartServer(\"http://www.biomart.org/biomart\")\n",
    "hge = server.datasets['hsapiens_gene_ensembl']\n",
    "\n",
    "print(server.databases['ensembl'])\n",
    "s = hge.search({'attributes': atts}, header=1)\n",
    "for l in s.iter_lines():\n",
    "    print(l)"
   ]
  },
  {
   "cell_type": "code",
   "execution_count": 71,
   "metadata": {},
   "outputs": [
    {
     "name": "stdout",
     "output_type": "stream",
     "text": [
      "Collecting biomart\n",
      "  Downloading https://files.pythonhosted.org/packages/d3/b7/684fabf2c8d695a5a85b65101405435611b78cbb6e013782bab7ed4b2e9a/biomart-0.9.2-py3-none-any.whl\n",
      "Requirement already satisfied: requests>=2.2 in /home/lera/anaconda3/lib/python3.7/site-packages (from biomart) (2.22.0)\n",
      "Requirement already satisfied: certifi>=2017.4.17 in /home/lera/anaconda3/lib/python3.7/site-packages (from requests>=2.2->biomart) (2019.9.11)\n",
      "Requirement already satisfied: idna<2.9,>=2.5 in /home/lera/anaconda3/lib/python3.7/site-packages (from requests>=2.2->biomart) (2.8)\n",
      "Requirement already satisfied: urllib3!=1.25.0,!=1.25.1,<1.26,>=1.21.1 in /home/lera/anaconda3/lib/python3.7/site-packages (from requests>=2.2->biomart) (1.24.2)\n",
      "Requirement already satisfied: chardet<3.1.0,>=3.0.2 in /home/lera/anaconda3/lib/python3.7/site-packages (from requests>=2.2->biomart) (3.0.4)\n",
      "Installing collected packages: biomart\n",
      "Successfully installed biomart-0.9.2\n"
     ]
    }
   ],
   "source": [
    "!pip install --user biomart"
   ]
  },
  {
   "cell_type": "code",
   "execution_count": null,
   "metadata": {},
   "outputs": [],
   "source": []
  }
 ],
 "metadata": {
  "kernelspec": {
   "display_name": "Python 3",
   "language": "python",
   "name": "python3"
  },
  "language_info": {
   "codemirror_mode": {
    "name": "ipython",
    "version": 3
   },
   "file_extension": ".py",
   "mimetype": "text/x-python",
   "name": "python",
   "nbconvert_exporter": "python",
   "pygments_lexer": "ipython3",
   "version": "3.7.4"
  }
 },
 "nbformat": 4,
 "nbformat_minor": 2
}
