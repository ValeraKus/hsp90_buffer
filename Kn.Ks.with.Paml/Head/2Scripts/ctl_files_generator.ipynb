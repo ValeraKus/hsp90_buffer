{
 "cells": [
  {
   "cell_type": "code",
   "execution_count": 38,
   "metadata": {},
   "outputs": [],
   "source": [
    "seq = !dir /b /a-d \\Users\\redmi\\Desktop\\HSP\\Kn.Ks.with.GODON\\Body\\2_Derived\\hsps\\aligment_phy\n",
    "trees = !dir /b /a-d \\Users\\redmi\\Desktop\\HSP\\Kn.Ks.with.GODON\\Body\\2_Derived\\hsps\\labeled_trees"
   ]
  },
  {
   "cell_type": "code",
   "execution_count": 39,
   "metadata": {},
   "outputs": [
    {
     "data": {
      "text/plain": [
       "15"
      ]
     },
     "execution_count": 39,
     "metadata": {},
     "output_type": "execute_result"
    }
   ],
   "source": [
    "len(seq)"
   ]
  },
  {
   "cell_type": "code",
   "execution_count": 4,
   "metadata": {},
   "outputs": [],
   "source": [
    "temp = open('../../Head/2Scripts/paml_branch_model.ctl').readlines()"
   ]
  },
  {
   "cell_type": "code",
   "execution_count": 41,
   "metadata": {},
   "outputs": [],
   "source": [
    "for s,t in zip(seq,trees):\n",
    "    gene = s[:-7]\n",
    "    \n",
    "    with open('ctl_files_hsps/' + gene + '_branch_model.ctl', 'w') as f:\n",
    "        f.write('      seqfile = ../../Raw/hsps/aligment_phy/' + s + '\\n')\n",
    "        f.write('      treefile = ../../Raw/hsps/labeled_trees/' + t + '\\n')\n",
    "        f.write('      outfile = ../../Derived/hsps/' + gene + '.txt' + '\\n')\n",
    "        for line in temp[3:]:\n",
    "            f.write(line)\n",
    "        f.close()\n"
   ]
  },
  {
   "cell_type": "code",
   "execution_count": 42,
   "metadata": {},
   "outputs": [],
   "source": [
    "seq = !dir /b /a-d \\Users\\redmi\\Desktop\\HSP\\Kn.Ks.with.GODON\\Body\\2_Derived\\nonhsp\\alignment_phy\n",
    "trees = !dir /b /a-d \\Users\\redmi\\Desktop\\HSP\\Kn.Ks.with.GODON\\Body\\2_Derived\\nonhsp\\labeled_trees"
   ]
  },
  {
   "cell_type": "code",
   "execution_count": 43,
   "metadata": {
    "scrolled": true
   },
   "outputs": [
    {
     "data": {
      "text/plain": [
       "15"
      ]
     },
     "execution_count": 43,
     "metadata": {},
     "output_type": "execute_result"
    }
   ],
   "source": [
    "len(trees)"
   ]
  },
  {
   "cell_type": "code",
   "execution_count": 44,
   "metadata": {},
   "outputs": [],
   "source": [
    "for s,t in zip(seq,trees):\n",
    "    gene = s[:-7]\n",
    "    \n",
    "    with open('ctl_files_nonhsp/' + gene + '_branch_model.ctl', 'w') as f:\n",
    "        f.write('      seqfile = ../../Raw/nonhsp/alignment_phy/' + s + '\\n')\n",
    "        f.write('      treefile = ../../Raw/nonhsp/labeled_trees/' + t + '\\n')\n",
    "        f.write('      outfile = ../../Derived/nonhsp/' + gene + '.txt' + '\\n')\n",
    "        for line in temp[3:]:\n",
    "            f.write(line)\n",
    "        f.close()"
   ]
  },
  {
   "cell_type": "code",
   "execution_count": null,
   "metadata": {},
   "outputs": [],
   "source": []
  },
  {
   "cell_type": "code",
   "execution_count": 9,
   "metadata": {},
   "outputs": [],
   "source": [
    "seq = !dir /b /a-d \\Users\\redmi\\Desktop\\HSP\\Kn.Ks.with.GODON\\Body\\2_Derived\\clients\\alignment_phy\n",
    "trees = !dir /b /a-d \\Users\\redmi\\Desktop\\HSP\\Kn.Ks.with.GODON\\Body\\2_Derived\\clients\\labeled_trees"
   ]
  },
  {
   "cell_type": "code",
   "execution_count": 10,
   "metadata": {},
   "outputs": [],
   "source": [
    "for s,t in zip(seq,trees):\n",
    "    gene = s[:-7]\n",
    "    \n",
    "    with open('ctl_files_clients/' + gene + '_branch_model.ctl', 'w') as f:\n",
    "        f.write('      seqfile = ../../Raw/clients/alignment_phy/' + s + '\\n')\n",
    "        f.write('      treefile = ../../Raw/clients/labeled_trees/' + t + '\\n')\n",
    "        f.write('      outfile = ../../Derived/clients/' + gene + '.txt' + '\\n')\n",
    "        for line in temp[3:]:\n",
    "            f.write(line)\n",
    "        f.close()\n"
   ]
  },
  {
   "cell_type": "code",
   "execution_count": 2,
   "metadata": {},
   "outputs": [],
   "source": [
    "seq = !dir /b /a-d \\Users\\redmi\\Desktop\\HSP\\Kn.Ks.with.GODON\\Body\\2_Derived\\nonclients\\alignment_phy\n",
    "trees = !dir /b /a-d \\Users\\redmi\\Desktop\\HSP\\Kn.Ks.with.GODON\\Body\\2_Derived\\nonclients\\labeled_trees"
   ]
  },
  {
   "cell_type": "code",
   "execution_count": 5,
   "metadata": {},
   "outputs": [],
   "source": [
    "for s,t in zip(seq,trees):\n",
    "    gene = s[:-7]\n",
    "    \n",
    "    with open('ctl_files_nonclients/' + gene + '_branch_model.ctl', 'w') as f:\n",
    "        f.write('      seqfile = ../../Raw/nonclients/alignment_phy/' + s + '\\n')\n",
    "        f.write('      treefile = ../../Raw/nonclients/labeled_trees/' + t + '\\n')\n",
    "        f.write('      outfile = ../../Derived/nonclients/' + gene + '.txt' + '\\n')\n",
    "        for line in temp[3:]:\n",
    "            f.write(line)\n",
    "        f.close()\n"
   ]
  },
  {
   "cell_type": "code",
   "execution_count": null,
   "metadata": {},
   "outputs": [],
   "source": [
    "codeml paml_branch_model.ctl\n"
   ]
  },
  {
   "cell_type": "code",
   "execution_count": null,
   "metadata": {},
   "outputs": [],
   "source": [
    "#!/bin/bash\n",
    "#PBS -d .\n",
    "#PBS -l walltime=1000:00:00,mem=20gb,nodes=1\n",
    "\n",
    "\n",
    "\n",
    "ls ~/Raw/clients/fasta/ | sed 's/.fasta//' > gene_names_list.txt\n",
    "\n",
    "\n",
    "for var in $(cat gene_names_list.txt)\n",
    "do\n",
    "echo \"~/godon test BSG --m0-tree --all-branches --ncat-codon-rate 4 --procs=2 ~/Raw/clients/fasta/$var.fasta ~/Raw/clients/trees/$var.rootree > ~/Derived/Godon/clients/$var.txt\" >> monocomands_godon.txt\n",
    "\n",
    "done\n"
   ]
  }
 ],
 "metadata": {
  "kernelspec": {
   "display_name": "Python 3",
   "language": "python",
   "name": "python3"
  },
  "language_info": {
   "codemirror_mode": {
    "name": "ipython",
    "version": 3
   },
   "file_extension": ".py",
   "mimetype": "text/x-python",
   "name": "python",
   "nbconvert_exporter": "python",
   "pygments_lexer": "ipython3",
   "version": "3.8.5"
  }
 },
 "nbformat": 4,
 "nbformat_minor": 4
}
