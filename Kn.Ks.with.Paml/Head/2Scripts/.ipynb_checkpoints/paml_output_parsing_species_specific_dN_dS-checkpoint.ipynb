{
 "cells": [
  {
   "cell_type": "code",
   "execution_count": 1,
   "metadata": {},
   "outputs": [],
   "source": [
    "import re\n",
    "import os\n",
    "import pandas as pd"
   ]
  },
  {
   "cell_type": "code",
   "execution_count": 90,
   "metadata": {},
   "outputs": [],
   "source": [
    "hsps = os.listdir('../../Body/2_Derived/hsps/PAML_output/success/')\n",
    "nonhsp = os.listdir('../../Body/2_Derived/nonhsp/PAML_output/success/')"
   ]
  },
  {
   "cell_type": "code",
   "execution_count": 93,
   "metadata": {},
   "outputs": [],
   "source": [
    "result_hsp = {'Species':[], 'gene':[], 'dN':[], 'dS':[], 'dN/dS':[]}\n",
    "for gene in hsps:\n",
    "    paml_file = open('../../Body/2_Derived/hsps/PAML_output/success/' + gene).readlines()\n",
    "    dn_tree = ''.join(paml_file)[''.join(paml_file).find('dN tree:'):].split('\\n')[1]\n",
    "    ds_tree = ''.join(paml_file)[''.join(paml_file).find('dS tree:'):].split('\\n')[1]\n",
    "    dn_ds_tree = ''.join(paml_file)[''.join(paml_file).find('w ratios as labels for TreeView:'):].split('\\n')[1]\n",
    "    \n",
    "    sp = {x.split(': ')[0] : [x.split(': ')[1]] for x in re.findall('[A-Z][a-z]+_[a-z]+_?[a-z]*:\\s[0-9]+\\.*[0-9]*', dn_tree)}\n",
    "    [sp[x.split(': ')[0]].append(x.split(': ')[1]) for x in re.findall('[A-Z][a-z]+_[a-z]+_?[a-z]*:\\s[0-9]+\\.[0-9]*', ds_tree)]\n",
    "    [sp[x.split(' #')[0]].append(x.split(' #')[1]) for x in re.findall('[A-Z][a-z]+_[a-z]+_?[a-z]*\\s#[0-9]+\\.*[0-9]*', dn_ds_tree)]\n",
    "\n",
    "    \n",
    "    \n",
    "    #head = 'Species' +'\\t' + 'gene' + '\\t' + 'dN' + '\\t' + 'dS' + '\\t' + 'dN/dS' + '\\n'\n",
    "    #f.write(head)\n",
    "    for i,j in sp.items():\n",
    "        result_hsp['Species'].append(i)\n",
    "        result_hsp['gene'].append(gene[:-7])\n",
    "        result_hsp['dN'].append(j[0])\n",
    "        result_hsp['dS'].append(j[1])\n",
    "        result_hsp['dN/dS'].append(j[2])\n",
    "        #st = str(i) + '\\t' + '\\t'.join(j) + '\\n'\n",
    "        #f.write(st)\n",
    "        \n",
    "   # f.close()\n",
    "\n",
    "for gene in nonhsp:\n",
    "    paml_file = open('../../Body/2_Derived/nonhsp/PAML_output/success/' + gene).readlines()\n",
    "    dn_tree = ''.join(paml_file)[''.join(paml_file).find('dN tree:'):].split('\\n')[1]\n",
    "    ds_tree = ''.join(paml_file)[''.join(paml_file).find('dS tree:'):].split('\\n')[1]\n",
    "    dn_ds_tree = ''.join(paml_file)[''.join(paml_file).find('w ratios as labels for TreeView:'):].split('\\n')[1]\n",
    "    \n",
    "    sp = {x.split(': ')[0] : [x.split(': ')[1]] for x in re.findall('[A-Z][a-z]+_[a-z]+_?[a-z]*:\\s[0-9]+\\.*[0-9]*', dn_tree)}\n",
    "    [sp[x.split(': ')[0]].append(x.split(': ')[1]) for x in re.findall('[A-Z][a-z]+_[a-z]+_?[a-z]*:\\s[0-9]+\\.[0-9]*', ds_tree)]\n",
    "    [sp[x.split(' #')[0]].append(x.split(' #')[1]) for x in re.findall('[A-Z][a-z]+_[a-z]+_?[a-z]*\\s#[0-9]+\\.*[0-9]*', dn_ds_tree)]\n",
    "    \n",
    "    for i,j in sp.items():\n",
    "        result_hsp['Species'].append(i)\n",
    "        result_hsp['gene'].append(gene[:-7])\n",
    "        result_hsp['dN'].append(j[0])\n",
    "        result_hsp['dS'].append(j[1])\n",
    "        result_hsp['dN/dS'].append(j[2])\n",
    "\n",
    "result_df = pd.DataFrame(result_hsp)\n",
    "result_df.to_csv(r'../../Body/2_Derived/hsps/dN.dS.paml.output.hsps.csv')"
   ]
  },
  {
   "cell_type": "code",
   "execution_count": null,
   "metadata": {},
   "outputs": [],
   "source": []
  },
  {
   "cell_type": "code",
   "execution_count": 30,
   "metadata": {},
   "outputs": [],
   "source": [
    "clients = os.listdir('../../Body/2_Derived/clients/PAML_output/')\n",
    "clients = [x for x in clients if '.txt' in x]\n",
    "\n",
    "for file in clients:\n",
    "    f = open('../../Body/2_Derived/clients/PAML_output/' + file).readlines()\n",
    "    if f != [] and 'Time used' in f[-1]:\n",
    "        os.replace('../../Body/2_Derived/clients/PAML_output/' + file, '../../Body/2_Derived/clients/PAML_output/success/' + file)\n"
   ]
  },
  {
   "cell_type": "code",
   "execution_count": 37,
   "metadata": {},
   "outputs": [],
   "source": [
    "nonclients = os.listdir('../../Body/2_Derived/nonclients/PAML_output/')\n",
    "nonclients = [x for x in nonclients if '.txt' in x]\n",
    "\n",
    "for file in nonclients:\n",
    "    f = open('../../Body/2_Derived/nonclients/PAML_output/' + file).readlines()\n",
    "    if f != [] and 'Time used' in f[-1]:\n",
    "        os.replace('../../Body/2_Derived/nonclients/PAML_output/' + file, '../../Body/2_Derived/nonclients/PAML_output/success/' + file)\n"
   ]
  },
  {
   "cell_type": "code",
   "execution_count": null,
   "metadata": {},
   "outputs": [],
   "source": []
  },
  {
   "cell_type": "code",
   "execution_count": 38,
   "metadata": {},
   "outputs": [],
   "source": [
    "clients = os.listdir('../../Body/2_Derived/clients/PAML_output/success/')\n",
    "nonclients = os.listdir('../../Body/2_Derived/nonclients/PAML_output/success/')"
   ]
  },
  {
   "cell_type": "code",
   "execution_count": 39,
   "metadata": {},
   "outputs": [],
   "source": [
    "result = {'Species':[], 'gene':[], 'dN':[], 'dS':[], 'dN/dS':[]}\n",
    "for gene in clients:\n",
    "    paml_file = open('../../Body/2_Derived/clients/PAML_output/success/' + gene).readlines()\n",
    "    dn_tree = ''.join(paml_file)[''.join(paml_file).find('dN tree:'):].split('\\n')[1]\n",
    "    ds_tree = ''.join(paml_file)[''.join(paml_file).find('dS tree:'):].split('\\n')[1]\n",
    "    dn_ds_tree = ''.join(paml_file)[''.join(paml_file).find('w ratios as labels for TreeView:'):].split('\\n')[1]\n",
    "    \n",
    "    sp = {x.split(': ')[0] : [x.split(': ')[1]] for x in re.findall('[A-Z][a-z]+_[a-z]+_?[a-z]*:\\s[0-9]+\\.*[0-9]*', dn_tree)}\n",
    "    [sp[x.split(': ')[0]].append(x.split(': ')[1]) for x in re.findall('[A-Z][a-z]+_[a-z]+_?[a-z]*:\\s[0-9]+\\.[0-9]*', ds_tree)]\n",
    "    [sp[x.split(' #')[0]].append(x.split(' #')[1]) for x in re.findall('[A-Z][a-z]+_[a-z]+_?[a-z]*\\s#[0-9]+\\.*[0-9]*', dn_ds_tree)]\n",
    "\n",
    "    \n",
    "    \n",
    "    #head = 'Species' +'\\t' + 'gene' + '\\t' + 'dN' + '\\t' + 'dS' + '\\t' + 'dN/dS' + '\\n'\n",
    "    #f.write(head)\n",
    "    for i,j in sp.items():\n",
    "        result['Species'].append(i)\n",
    "        result['gene'].append(gene[:-7])\n",
    "        result['dN'].append(j[0])\n",
    "        result['dS'].append(j[1])\n",
    "        result['dN/dS'].append(j[2])\n",
    "        #st = str(i) + '\\t' + '\\t'.join(j) + '\\n'\n",
    "        #f.write(st)\n",
    "        \n",
    "   # f.close()\n",
    "\n",
    "for gene in nonclients:\n",
    "    paml_file = open('../../Body/2_Derived/nonclients/PAML_output/success/' + gene).readlines()\n",
    "    dn_tree = ''.join(paml_file)[''.join(paml_file).find('dN tree:'):].split('\\n')[1]\n",
    "    ds_tree = ''.join(paml_file)[''.join(paml_file).find('dS tree:'):].split('\\n')[1]\n",
    "    dn_ds_tree = ''.join(paml_file)[''.join(paml_file).find('w ratios as labels for TreeView:'):].split('\\n')[1]\n",
    "    \n",
    "    sp = {x.split(': ')[0] : [x.split(': ')[1]] for x in re.findall('[A-Z][a-z]+_[a-z]+_?[a-z]*:\\s[0-9]+\\.*[0-9]*', dn_tree)}\n",
    "    [sp[x.split(': ')[0]].append(x.split(': ')[1]) for x in re.findall('[A-Z][a-z]+_[a-z]+_?[a-z]*:\\s[0-9]+\\.[0-9]*', ds_tree)]\n",
    "    [sp[x.split(' #')[0]].append(x.split(' #')[1]) for x in re.findall('[A-Z][a-z]+_[a-z]+_?[a-z]*\\s#[0-9]+\\.*[0-9]*', dn_ds_tree)]\n",
    "    \n",
    "    for i,j in sp.items():\n",
    "        result['Species'].append(i)\n",
    "        result['gene'].append(gene[:-7])\n",
    "        result['dN'].append(j[0])\n",
    "        result['dS'].append(j[1])\n",
    "        result['dN/dS'].append(j[2])\n",
    "\n",
    "result_df = pd.DataFrame(result)\n",
    "result_df.to_csv(r'../../Body/2_Derived/clients/dN.dS.paml.output.clients.nonclients.csv')"
   ]
  },
  {
   "cell_type": "code",
   "execution_count": null,
   "metadata": {},
   "outputs": [],
   "source": []
  },
  {
   "cell_type": "code",
   "execution_count": 12,
   "metadata": {},
   "outputs": [],
   "source": [
    "with open('../../Body/2_Derived/ENSG00000284701_TMEM247_paml_branch_model_species_specific_dn_ds.txt', 'w') as f:\n",
    "    head = 'Species' + '\\t' + 'dN' + '\\t' + 'dS' + '\\t' + 'dN/dS' + '\\n'\n",
    "    f.write(head)\n",
    "    for i,j in sp.items():\n",
    "        st = str(i) + '\\t' + '\\t'.join(j) + '\\n'\n",
    "        f.write(st)\n",
    "        \n",
    "    f.close()"
   ]
  }
 ],
 "metadata": {
  "kernelspec": {
   "display_name": "Python 3",
   "language": "python",
   "name": "python3"
  },
  "language_info": {
   "codemirror_mode": {
    "name": "ipython",
    "version": 3
   },
   "file_extension": ".py",
   "mimetype": "text/x-python",
   "name": "python",
   "nbconvert_exporter": "python",
   "pygments_lexer": "ipython3",
   "version": "3.8.5"
  }
 },
 "nbformat": 4,
 "nbformat_minor": 2
}
