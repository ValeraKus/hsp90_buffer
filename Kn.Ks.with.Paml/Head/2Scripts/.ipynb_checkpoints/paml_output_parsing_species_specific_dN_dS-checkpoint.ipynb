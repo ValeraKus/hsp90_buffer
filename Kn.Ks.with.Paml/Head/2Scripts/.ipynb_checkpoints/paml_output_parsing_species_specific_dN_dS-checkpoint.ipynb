{
 "cells": [
  {
   "cell_type": "code",
   "execution_count": 15,
   "metadata": {},
   "outputs": [],
   "source": [
    "import re"
   ]
  },
  {
   "cell_type": "code",
   "execution_count": 1,
   "metadata": {},
   "outputs": [],
   "source": [
    "paml = open('../../Body/2_Derived/ENSG00000284701_TMEM247_paml_branch_model.txt').readlines()"
   ]
  },
  {
   "cell_type": "code",
   "execution_count": 12,
   "metadata": {},
   "outputs": [],
   "source": [
    "dn_ds_tree = ''.join(paml)[''.join(paml).find('w ratios as labels for TreeView:'):].split('\\n')[1]"
   ]
  },
  {
   "cell_type": "code",
   "execution_count": 21,
   "metadata": {},
   "outputs": [],
   "source": [
    "dn_tree = ''.join(paml)[''.join(paml).find('dN tree:'):].split('\\n')[1]\n",
    "ds_tree = ''.join(paml)[''.join(paml).find('dS tree:'):].split('\\n')[1]"
   ]
  },
  {
   "cell_type": "code",
   "execution_count": 66,
   "metadata": {},
   "outputs": [
    {
     "data": {
      "text/plain": [
       "[None,\n",
       " None,\n",
       " None,\n",
       " None,\n",
       " None,\n",
       " None,\n",
       " None,\n",
       " None,\n",
       " None,\n",
       " None,\n",
       " None,\n",
       " None,\n",
       " None,\n",
       " None,\n",
       " None,\n",
       " None,\n",
       " None,\n",
       " None,\n",
       " None,\n",
       " None,\n",
       " None,\n",
       " None,\n",
       " None,\n",
       " None,\n",
       " None,\n",
       " None,\n",
       " None,\n",
       " None,\n",
       " None,\n",
       " None,\n",
       " None,\n",
       " None,\n",
       " None,\n",
       " None,\n",
       " None,\n",
       " None,\n",
       " None,\n",
       " None,\n",
       " None,\n",
       " None,\n",
       " None,\n",
       " None,\n",
       " None,\n",
       " None,\n",
       " None,\n",
       " None,\n",
       " None,\n",
       " None,\n",
       " None,\n",
       " None,\n",
       " None,\n",
       " None,\n",
       " None,\n",
       " None,\n",
       " None,\n",
       " None,\n",
       " None,\n",
       " None,\n",
       " None,\n",
       " None,\n",
       " None,\n",
       " None,\n",
       " None,\n",
       " None,\n",
       " None,\n",
       " None,\n",
       " None,\n",
       " None,\n",
       " None,\n",
       " None,\n",
       " None,\n",
       " None,\n",
       " None,\n",
       " None,\n",
       " None,\n",
       " None,\n",
       " None,\n",
       " None,\n",
       " None,\n",
       " None,\n",
       " None,\n",
       " None,\n",
       " None,\n",
       " None,\n",
       " None,\n",
       " None,\n",
       " None,\n",
       " None,\n",
       " None,\n",
       " None,\n",
       " None,\n",
       " None,\n",
       " None,\n",
       " None,\n",
       " None,\n",
       " None,\n",
       " None,\n",
       " None,\n",
       " None,\n",
       " None]"
      ]
     },
     "execution_count": 66,
     "metadata": {},
     "output_type": "execute_result"
    }
   ],
   "source": [
    "sp = {x.split(': ')[0] : [x.split(': ')[1]] for x in re.findall('[A-Z][a-z]+_[a-z]+_?[a-z]*:\\s[0-9]+\\.[0-9]*', dn_tree)}\n",
    "\n",
    "[sp[x.split(': ')[0]].append(x.split(': ')[1]) for x in re.findall('[A-Z][a-z]+_[a-z]+_?[a-z]*:\\s[0-9]+\\.[0-9]*', ds_tree)]\n",
    "\n",
    "\n",
    "[sp[x.split(' #')[0]].append(x.split(' #')[1]) for x in re.findall('[A-Z][a-z]+_[a-z]+_?[a-z]*\\s#[0-9]+\\.[0-9]*', dn_ds_tree)]"
   ]
  },
  {
   "cell_type": "code",
   "execution_count": 77,
   "metadata": {},
   "outputs": [],
   "source": [
    "with open('../../Body/2_Derived/ENSG00000284701_TMEM247_paml_branch_model_species_specific_dn_ds.txt', 'w') as f:\n",
    "    head = 'Species' + '\\t' + 'dN' + '\\t' + 'dS' + '\\t' + 'dN/dS' + '\\n'\n",
    "    f.write(head)\n",
    "    for i,j in sp.items():\n",
    "        st = str(i) + '\\t' + '\\t'.join(j) + '\\n'\n",
    "        f.write(st)\n",
    "        \n",
    "    f.close()"
   ]
  },
  {
   "cell_type": "code",
   "execution_count": null,
   "metadata": {},
   "outputs": [],
   "source": []
  }
 ],
 "metadata": {
  "kernelspec": {
   "display_name": "Python 3",
   "language": "python",
   "name": "python3"
  },
  "language_info": {
   "codemirror_mode": {
    "name": "ipython",
    "version": 3
   },
   "file_extension": ".py",
   "mimetype": "text/x-python",
   "name": "python",
   "nbconvert_exporter": "python",
   "pygments_lexer": "ipython3",
   "version": "3.7.4"
  }
 },
 "nbformat": 4,
 "nbformat_minor": 2
}
