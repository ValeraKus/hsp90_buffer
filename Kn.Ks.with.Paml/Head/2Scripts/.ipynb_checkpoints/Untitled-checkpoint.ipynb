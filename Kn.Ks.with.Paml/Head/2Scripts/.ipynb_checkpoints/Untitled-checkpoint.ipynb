{
 "cells": [
  {
   "cell_type": "code",
   "execution_count": 2,
   "metadata": {},
   "outputs": [],
   "source": [
    "from Bio import AlignIO\n",
    "import os"
   ]
  },
  {
   "cell_type": "code",
   "execution_count": 37,
   "metadata": {},
   "outputs": [],
   "source": [
    "files = os.listdir('../../Body/2_Derived/hsps/aligment/')"
   ]
  },
  {
   "cell_type": "code",
   "execution_count": 16,
   "metadata": {},
   "outputs": [
    {
     "data": {
      "text/plain": [
       "'ENSG00000002330_BAD_NT.fasta'"
      ]
     },
     "execution_count": 16,
     "metadata": {},
     "output_type": "execute_result"
    }
   ],
   "source": [
    "files[0]"
   ]
  },
  {
   "cell_type": "code",
   "execution_count": 38,
   "metadata": {},
   "outputs": [],
   "source": [
    "#common_species = []\n",
    "all_species = []\n",
    "for file in files:\n",
    "    al = AlignIO.read('../../Body/2_Derived/hsps/aligment/' + file, 'fasta')\n",
    "    species_al = [x.description for x in al]\n",
    "    #if common_species == []:\n",
    "    #    common_species = species_al\n",
    "    #else:\n",
    "    #    common_species = list(set(common_species) & set(species_al))\n",
    "        \n",
    "    if all_species == []:\n",
    "        all_species = species_al\n",
    "        \n",
    "    else:\n",
    "        all_species = list(set(all_species + species_al))"
   ]
  },
  {
   "cell_type": "code",
   "execution_count": 39,
   "metadata": {},
   "outputs": [
    {
     "data": {
      "text/plain": [
       "113"
      ]
     },
     "execution_count": 39,
     "metadata": {},
     "output_type": "execute_result"
    }
   ],
   "source": [
    "len(all_species)"
   ]
  },
  {
   "cell_type": "code",
   "execution_count": 40,
   "metadata": {},
   "outputs": [
    {
     "data": {
      "text/plain": [
       "['Physeter_catodon',\n",
       " 'Odobenus_rosmarus',\n",
       " 'Cebus_capucinus',\n",
       " 'Chrysochloris_asiatica',\n",
       " 'Vicugna_pacos',\n",
       " 'Myotis_davidii',\n",
       " 'Condylura_cristata',\n",
       " 'Ovis_aries',\n",
       " 'Pan_paniscus',\n",
       " 'Homo_sapiens',\n",
       " 'Bos_taurus',\n",
       " 'Panthera_pardus',\n",
       " 'Aotus_nancymaae',\n",
       " 'Chinchilla_lanigera',\n",
       " 'Microcebus_murinus',\n",
       " 'Echinops_telfairi',\n",
       " 'Camelus_dromedarius',\n",
       " 'Nomascus_leucogenys',\n",
       " 'Lipotes_vexillifer',\n",
       " 'Colobus_angolensis',\n",
       " 'Sus_scrofa',\n",
       " 'Elephantulus_edwardii',\n",
       " 'Fukomys_damarensis',\n",
       " 'Peromyscus_maniculatus',\n",
       " 'Delphinapterus_leucas',\n",
       " 'Procavia_capensis',\n",
       " 'Dipodomys_ordii',\n",
       " 'Acinonyx_jubatus',\n",
       " 'Pantholops_hodgsonii',\n",
       " 'Rhinopithecus_bieti',\n",
       " 'Mesocricetus_auratus',\n",
       " 'Bison_bison',\n",
       " 'Nannospalax_galili',\n",
       " 'Equus_asinus',\n",
       " 'Propithecus_coquereli',\n",
       " 'Monodelphis_domestica',\n",
       " 'Ictidomys_tridecemlineatus',\n",
       " 'Sarcophilus_harrisii',\n",
       " 'Loxodonta_africana',\n",
       " 'Mustela_putorius',\n",
       " 'Bos_indicus',\n",
       " 'Saimiri_boliviensis',\n",
       " 'Tursiops_truncatus',\n",
       " 'Piliocolobus_tephrosceles',\n",
       " 'Mus_spretus',\n",
       " 'Canis_familiaris',\n",
       " 'Callithrix_jacchus',\n",
       " 'Pongo_abelii',\n",
       " 'Felis_catus',\n",
       " 'Macaca_fascicularis',\n",
       " 'Ornithorhynchus_anatinus',\n",
       " 'Marmota_marmota',\n",
       " 'Manis_javanica',\n",
       " 'Mus_musculus',\n",
       " 'Jaculus_jaculus',\n",
       " 'Pteropus_alecto',\n",
       " 'Equus_przewalskii',\n",
       " 'Capra_hircus',\n",
       " 'Mus_caroli',\n",
       " 'Cercocebus_atys',\n",
       " 'Galeopterus_variegatus',\n",
       " 'Macaca_mulatta',\n",
       " 'Balaenoptera_acutorostrata',\n",
       " 'Phascolarctos_cinereus',\n",
       " 'Orcinus_orca',\n",
       " 'Cavia_porcellus',\n",
       " 'Chlorocebus_sabaeus',\n",
       " 'Leptonychotes_weddellii',\n",
       " 'Meriones_unguiculatus',\n",
       " 'Ursus_maritimus',\n",
       " 'Erinaceus_europaeus',\n",
       " 'Sorex_araneus',\n",
       " 'Microtus_ochrogaster',\n",
       " 'Otolemur_garnettii',\n",
       " 'Pan_troglodytes',\n",
       " 'Panthera_tigris',\n",
       " 'Ceratotherium_simum',\n",
       " 'Odocoileus_virginianus',\n",
       " 'Rhinolophus_sinicus',\n",
       " 'Mus_pahari',\n",
       " 'Carlito_syrichta',\n",
       " 'Orycteropus_afer',\n",
       " 'Heterocephalus_glaber',\n",
       " 'Rattus_norvegicus',\n",
       " 'Pteropus_vampyrus',\n",
       " 'Dasypus_novemcinctus',\n",
       " 'Rousettus_aegyptiacus',\n",
       " 'Papio_anubis',\n",
       " 'Ochotona_princeps',\n",
       " 'Cricetulus_griseus',\n",
       " 'Myotis_brandtii',\n",
       " 'Mandrillus_leucophaeus',\n",
       " 'Camelus_ferus',\n",
       " 'Equus_caballus',\n",
       " 'Myotis_lucifugus',\n",
       " 'Cavia_aperea',\n",
       " 'Camelus_bactrianus',\n",
       " 'Castor_canadensis',\n",
       " 'Rhinopithecus_roxellana',\n",
       " 'Gorilla_gorilla',\n",
       " 'Enhydra_lutris',\n",
       " 'Tupaia_belangeri',\n",
       " 'Bos_mutus',\n",
       " 'Miniopterus_natalensis',\n",
       " 'Octodon_degus',\n",
       " 'Eptesicus_fuscus',\n",
       " 'Trichechus_manatus',\n",
       " 'Ailuropoda_melanoleuca',\n",
       " 'Macaca_nemestrina',\n",
       " 'Bubalus_bubalis',\n",
       " 'Choloepus_hoffmanni',\n",
       " 'Oryctolagus_cuniculus',\n",
       " 'Hipposideros_armiger']"
      ]
     },
     "execution_count": 40,
     "metadata": {},
     "output_type": "execute_result"
    }
   ],
   "source": [
    "all_species"
   ]
  }
 ],
 "metadata": {
  "kernelspec": {
   "display_name": "Python 3",
   "language": "python",
   "name": "python3"
  },
  "language_info": {
   "codemirror_mode": {
    "name": "ipython",
    "version": 3
   },
   "file_extension": ".py",
   "mimetype": "text/x-python",
   "name": "python",
   "nbconvert_exporter": "python",
   "pygments_lexer": "ipython3",
   "version": "3.8.5"
  }
 },
 "nbformat": 4,
 "nbformat_minor": 4
}
