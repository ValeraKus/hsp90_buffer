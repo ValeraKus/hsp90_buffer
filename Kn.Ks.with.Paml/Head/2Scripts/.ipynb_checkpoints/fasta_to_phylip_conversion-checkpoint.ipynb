{
 "cells": [
  {
   "cell_type": "code",
   "execution_count": 1,
   "metadata": {},
   "outputs": [],
   "source": [
    "import re\n",
    "import itertools\n",
    "from Bio import AlignIO"
   ]
  },
  {
   "cell_type": "code",
   "execution_count": 6,
   "metadata": {},
   "outputs": [],
   "source": [
    "files_hsp = ! dir /b /a-d \\Users\\redmi\\Desktop\\HSP\\Kn.Ks.with.GODON\\Body\\2_Derived\\hsps\\aligment\\\n",
    "\n",
    "#files_hsp = files_hsp[:2] + files_hsp[3:]\n",
    "#files_clients = files_clients[:-1]"
   ]
  },
  {
   "cell_type": "code",
   "execution_count": 9,
   "metadata": {},
   "outputs": [],
   "source": [
    "#names = [re.sub('../../../../Raw/clients/fasta/', '', file) for file in files_clients]\n",
    "names = [re.sub('.fasta', '', file) for file in files_hsp]"
   ]
  },
  {
   "cell_type": "code",
   "execution_count": 12,
   "metadata": {},
   "outputs": [],
   "source": [
    "for file, n in zip(files_hsp, names):\n",
    "    f = AlignIO.read('../../Body/2_Derived/hsps/aligment/' + file, 'fasta')\n",
    "    f = list(itertools.chain(*[['>'+f[i].name, str(f[i].seq)] for i in range(len(f))]))\n",
    "    new_f = []\n",
    "    num = len([f[i] for i in range(0, len(f), 2)])\n",
    "    length = len(f[1])\n",
    "    new_f.append('  ' + str(num) + '   ' + str(length) + '\\n')\n",
    "    new_f.append('\\n')\n",
    "    for line in f:\n",
    "        if line[0] == '>':\n",
    "            new_f.append(line[1:]+'\\n')\n",
    "        else:\n",
    "            for i in range(len(line.strip())//59 + 1):\n",
    "                new_f.append(line.strip()[i*59:59*(i+1)] + '\\n')\n",
    "            new_f.append('\\n')\n",
    "            \n",
    "    name = '../../Body/2_Derived/hsps/aligment_phy/' + n + '.phylip'\n",
    "    with open(name, 'w') as phy:\n",
    "        for line in new_f:\n",
    "            phy.write(line)"
   ]
  },
  {
   "cell_type": "code",
   "execution_count": null,
   "metadata": {},
   "outputs": [],
   "source": []
  },
  {
   "cell_type": "code",
   "execution_count": null,
   "metadata": {},
   "outputs": [],
   "source": []
  },
  {
   "cell_type": "code",
   "execution_count": 15,
   "metadata": {},
   "outputs": [],
   "source": [
    "files_nonhsp = ! dir /b /a-d \\Users\\redmi\\Desktop\\HSP\\Kn.Ks.with.GODON\\Body\\2_Derived\\nonhsp\\alignment\n",
    "#files_nonclients = files_nonclients[:-1]"
   ]
  },
  {
   "cell_type": "code",
   "execution_count": 19,
   "metadata": {},
   "outputs": [],
   "source": [
    "names = [re.sub('.fasta', '', file) for file in files_nonhsp]"
   ]
  },
  {
   "cell_type": "code",
   "execution_count": 20,
   "metadata": {},
   "outputs": [
    {
     "name": "stdout",
     "output_type": "stream",
     "text": [
      "3246\n",
      "4842\n",
      "3717\n",
      "2001\n",
      "1143\n",
      "1488\n",
      "2949\n",
      "1458\n",
      "4152\n",
      "1581\n",
      "1908\n",
      "4665\n",
      "2427\n",
      "1269\n",
      "2841\n"
     ]
    }
   ],
   "source": [
    "for file, n in zip(files_nonhsp, names):\n",
    "    f = AlignIO.read('../../Body/2_Derived/nonhsp/alignment/' + file, 'fasta')\n",
    "    f = list(itertools.chain(*[['>'+f[i].name, str(f[i].seq)] for i in range(len(f))]))\n",
    "    new_f = []\n",
    "    num = len([f[i] for i in range(0, len(f), 2)])\n",
    "    print(len(f[1]))\n",
    "    length = len(f[1])\n",
    "    new_f.append('  ' + str(num) + '   ' + str(length) + '\\n')\n",
    "    new_f.append('\\n')\n",
    "    for line in f:\n",
    "        if line[0] == '>':\n",
    "            new_f.append(line[1:]+'\\n')\n",
    "        else:\n",
    "            for i in range(len(line.strip())//60 + 1):\n",
    "                new_f.append(line.strip()[i*60:60*(i+1)] + '\\n')\n",
    "            new_f.append('\\n')\n",
    "    \n",
    "    name = '../../Body/2_Derived/nonhsp/alignment_phy/' + n + '.phylip'\n",
    "    with open(name, 'w') as phy:\n",
    "        for line in new_f:\n",
    "            phy.write(line)"
   ]
  },
  {
   "cell_type": "code",
   "execution_count": null,
   "metadata": {},
   "outputs": [],
   "source": []
  },
  {
   "cell_type": "code",
   "execution_count": 23,
   "metadata": {},
   "outputs": [],
   "source": [
    "files_clients = ! dir /b /a-d \\Users\\redmi\\Desktop\\HSP\\Kn.Ks.with.GODON\\Body\\2_Derived\\clients\\alignment\\\n"
   ]
  },
  {
   "cell_type": "code",
   "execution_count": 24,
   "metadata": {},
   "outputs": [],
   "source": [
    "names = [re.sub('.fasta', '', file) for file in files_clients]"
   ]
  },
  {
   "cell_type": "code",
   "execution_count": 25,
   "metadata": {},
   "outputs": [],
   "source": [
    "for file, n in zip(files_clients, names):\n",
    "    f = AlignIO.read('../../Body/2_Derived/clients/alignment/' + file, 'fasta')\n",
    "    f = list(itertools.chain(*[['>'+f[i].name, str(f[i].seq)] for i in range(len(f))]))\n",
    "    new_f = []\n",
    "    num = len([f[i] for i in range(0, len(f), 2)])\n",
    "    length = len(f[1])\n",
    "    new_f.append('  ' + str(num) + '   ' + str(length) + '\\n')\n",
    "    new_f.append('\\n')\n",
    "    for line in f:\n",
    "        if line[0] == '>':\n",
    "            new_f.append(line[1:]+'\\n')\n",
    "        else:\n",
    "            for i in range(len(line.strip())//59 + 1):\n",
    "                new_f.append(line.strip()[i*59:59*(i+1)] + '\\n')\n",
    "            new_f.append('\\n')\n",
    "            \n",
    "    name = '../../Body/2_Derived/clients/alignment_phy/' + n + '.phylip'\n",
    "    with open(name, 'w') as phy:\n",
    "        for line in new_f:\n",
    "            phy.write(line)"
   ]
  },
  {
   "cell_type": "code",
   "execution_count": null,
   "metadata": {},
   "outputs": [],
   "source": []
  },
  {
   "cell_type": "code",
   "execution_count": 21,
   "metadata": {},
   "outputs": [],
   "source": [
    "files_nonclients = ! dir /b /a-d \\Users\\redmi\\Desktop\\HSP\\Kn.Ks.with.GODON\\Body\\2_Derived\\nonclients\\alignment\n",
    "names = [re.sub('.fasta', '', file) for file in files_nonclients]"
   ]
  },
  {
   "cell_type": "code",
   "execution_count": null,
   "metadata": {},
   "outputs": [],
   "source": []
  },
  {
   "cell_type": "code",
   "execution_count": 22,
   "metadata": {},
   "outputs": [],
   "source": [
    "for file, n in zip(files_nonclients, names):\n",
    "    f = AlignIO.read('../../Body/2_Derived/nonclients/alignment/' + file, 'fasta')\n",
    "    f = list(itertools.chain(*[['>'+f[i].name, str(f[i].seq)] for i in range(len(f))]))\n",
    "    new_f = []\n",
    "    num = len([f[i] for i in range(0, len(f), 2)])\n",
    "    length = len(f[1])\n",
    "    new_f.append('  ' + str(num) + '   ' + str(length) + '\\n')\n",
    "    new_f.append('\\n')\n",
    "    for line in f:\n",
    "        if line[0] == '>':\n",
    "            new_f.append(line[1:]+'\\n')\n",
    "        else:\n",
    "            for i in range(len(line.strip())//59 + 1):\n",
    "                new_f.append(line.strip()[i*59:59*(i+1)] + '\\n')\n",
    "            new_f.append('\\n')\n",
    "            \n",
    "    name = '../../Body/2_Derived/nonclients/alignment_phy/' + n + '.phylip'\n",
    "    with open(name, 'w') as phy:\n",
    "        for line in new_f:\n",
    "            phy.write(line)"
   ]
  },
  {
   "cell_type": "code",
   "execution_count": null,
   "metadata": {},
   "outputs": [],
   "source": []
  }
 ],
 "metadata": {
  "kernelspec": {
   "display_name": "Python 3",
   "language": "python",
   "name": "python3"
  },
  "language_info": {
   "codemirror_mode": {
    "name": "ipython",
    "version": 3
   },
   "file_extension": ".py",
   "mimetype": "text/x-python",
   "name": "python",
   "nbconvert_exporter": "python",
   "pygments_lexer": "ipython3",
   "version": "3.8.5"
  }
 },
 "nbformat": 4,
 "nbformat_minor": 2
}
