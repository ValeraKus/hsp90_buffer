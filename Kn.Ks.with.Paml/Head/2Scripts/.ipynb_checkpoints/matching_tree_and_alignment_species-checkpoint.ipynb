{
 "cells": [
  {
   "cell_type": "code",
   "execution_count": 66,
   "metadata": {},
   "outputs": [],
   "source": [
    "from Bio import Phylo\n",
    "from Bio import AlignIO\n",
    "import re"
   ]
  },
  {
   "cell_type": "code",
   "execution_count": 68,
   "metadata": {},
   "outputs": [],
   "source": [
    "tree = Phylo.read(\"../../Body/1_Raw/Mammalia_species.nwk\", \"newick\")\n",
    "sp_tree = [x.name for x in tree.get_terminals()]"
   ]
  },
  {
   "cell_type": "code",
   "execution_count": 131,
   "metadata": {},
   "outputs": [],
   "source": [
    "align = AlignIO.read('../../Body/1_Raw/omm_NT_fasta.v10b_116tax_CDS_final/ENSG00000000003_TSPAN6_NT.fasta', 'fasta')\n",
    "for i in range(len(align)):\n",
    "    align[i].name = re.match('[A-Z][a-z]*_[a-z]*', align[i].name).group()\n",
    "    \n",
    "sp_align = [i.name for i in align]"
   ]
  },
  {
   "cell_type": "code",
   "execution_count": 132,
   "metadata": {},
   "outputs": [
    {
     "name": "stdout",
     "output_type": "stream",
     "text": [
      "Canis_familiaris\n",
      "Neomonachus_schauinslandi\n",
      "Tupaia_chinensis\n",
      "Notamacropus_eugenii\n",
      "4\n"
     ]
    }
   ],
   "source": [
    "sp_align = [i.name for i in align]\n",
    "c = 0\n",
    "\n",
    "for sp in sp_align:\n",
    "    if sp not in sp_tree:\n",
    "        print(sp)\n",
    "        c+=1\n",
    "print(c)"
   ]
  },
  {
   "cell_type": "code",
   "execution_count": 133,
   "metadata": {},
   "outputs": [
    {
     "name": "stdout",
     "output_type": "stream",
     "text": [
      "110\n",
      "109\n",
      "108\n",
      "107\n",
      "106\n"
     ]
    }
   ],
   "source": [
    "align = list(align)\n",
    "\n",
    "for i in range(len(align)):\n",
    "    if i < len(align):\n",
    "        if align[i].name not in sp_tree:\n",
    "            align = align[0:i]+align[i+1:]\n",
    "            i-=1"
   ]
  },
  {
   "cell_type": "code",
   "execution_count": 134,
   "metadata": {},
   "outputs": [
    {
     "name": "stdout",
     "output_type": "stream",
     "text": [
      "106\n"
     ]
    }
   ],
   "source": [
    "print(len(align))"
   ]
  },
  {
   "cell_type": "code",
   "execution_count": 139,
   "metadata": {},
   "outputs": [],
   "source": [
    "sp_align = [i.name for i in align]\n",
    "for sp in sp_tree:\n",
    "    if sp not in sp_align:\n",
    "        tree.prune(sp)"
   ]
  },
  {
   "cell_type": "code",
   "execution_count": 144,
   "metadata": {},
   "outputs": [
    {
     "data": {
      "text/plain": [
       "[Clade(branch_length=61.629009999999994, name='Sarcophilus_harrisii'),\n",
       " Clade(branch_length=61.62901000000001, name='Phascolarctos_cinereus'),\n",
       " Clade(branch_length=64.77156154, name='Erinaceus_europaeus'),\n",
       " Clade(branch_length=64.77156154000001, name='Sorex_araneus'),\n",
       " Clade(branch_length=66.77089091, name='Condylura_cristata'),\n",
       " Clade(branch_length=7.41234111, name='Panthera_tigris'),\n",
       " Clade(branch_length=7.41234111, name='Panthera_pardus'),\n",
       " Clade(branch_length=13.000000009999999, name='Felis_catus'),\n",
       " Clade(branch_length=13.0, name='Acinonyx_jubatus'),\n",
       " Clade(branch_length=17.5, name='Enhydra_lutris'),\n",
       " Clade(branch_length=17.5, name='Mustela_putorius'),\n",
       " Clade(branch_length=25.98527143, name='Odobenus_rosmarus'),\n",
       " Clade(branch_length=25.98527143, name='Leptonychotes_weddellii'),\n",
       " Clade(branch_length=23.36263333, name='Ailuropoda_melanoleuca'),\n",
       " Clade(branch_length=23.362633330000005, name='Ursus_maritimus'),\n",
       " Clade(branch_length=74.66026726999999, name='Manis_javanica'),\n",
       " Clade(branch_length=2.59, name='Equus_caballus'),\n",
       " Clade(branch_length=2.59, name='Equus_przewalskii'),\n",
       " Clade(branch_length=7.72, name='Equus_asinus'),\n",
       " Clade(branch_length=54.40072903, name='Ceratotherium_simum'),\n",
       " Clade(branch_length=20.56159, name='Vicugna_pacos'),\n",
       " Clade(branch_length=6.353225, name='Camelus_dromedarius'),\n",
       " Clade(branch_length=0.78004, name='Camelus_ferus'),\n",
       " Clade(branch_length=0.78004, name='Camelus_bactrianus'),\n",
       " Clade(branch_length=33.5, name='Balaenoptera_acutorostrata'),\n",
       " Clade(branch_length=33.5, name='Physeter_catodon'),\n",
       " Clade(branch_length=25.418956469999998, name='Lipotes_vexillifer'),\n",
       " Clade(branch_length=18.39127378, name='Delphinapterus_leucas'),\n",
       " Clade(branch_length=11.142368569999999, name='Tursiops_truncatus'),\n",
       " Clade(branch_length=11.14236857, name='Orcinus_orca'),\n",
       " Clade(branch_length=12.28692555, name='Bubalus_bubalis'),\n",
       " Clade(branch_length=0.62642157, name='Bos_taurus'),\n",
       " Clade(branch_length=0.62642157, name='Bos_indicus'),\n",
       " Clade(branch_length=4.3648375, name='Bos_mutus'),\n",
       " Clade(branch_length=4.88, name='Bison_bison'),\n",
       " Clade(branch_length=9.75, name='Capra_hircus'),\n",
       " Clade(branch_length=9.75, name='Ovis_aries'),\n",
       " Clade(branch_length=18.0, name='Pantholops_hodgsonii'),\n",
       " Clade(branch_length=27.307281000000003, name='Odocoileus_virginianus'),\n",
       " Clade(branch_length=61.965988519999996, name='Sus_scrofa'),\n",
       " Clade(branch_length=46.099999999999994, name='Hipposideros_armiger'),\n",
       " Clade(branch_length=46.099999999999994, name='Rhinolophus_sinicus'),\n",
       " Clade(branch_length=12.944899999999999, name='Pteropus_vampyrus'),\n",
       " Clade(branch_length=12.944899999999999, name='Pteropus_alecto'),\n",
       " Clade(branch_length=27.38079692, name='Rousettus_aegyptiacus'),\n",
       " Clade(branch_length=31.322325000000003, name='Eptesicus_fuscus'),\n",
       " Clade(branch_length=14.191748, name='Myotis_brandtii'),\n",
       " Clade(branch_length=14.191748010000001, name='Myotis_lucifugus'),\n",
       " Clade(branch_length=20.773736669999998, name='Myotis_davidii'),\n",
       " Clade(branch_length=44.83572929, name='Miniopterus_natalensis'),\n",
       " Clade(branch_length=82.14079888999999, name='Oryctolagus_cuniculus'),\n",
       " Clade(branch_length=33.832859, name='Heterocephalus_glaber'),\n",
       " Clade(branch_length=33.832859, name='Fukomys_damarensis'),\n",
       " Clade(branch_length=35.778999500000005, name='Cavia_porcellus'),\n",
       " Clade(branch_length=32.85536467, name='Octodon_degus'),\n",
       " Clade(branch_length=32.85536466, name='Chinchilla_lanigera'),\n",
       " Clade(branch_length=20.8874174, name='Rattus_norvegicus'),\n",
       " Clade(branch_length=3.06548222, name='Mus_musculus'),\n",
       " Clade(branch_length=3.06548222, name='Mus_spretus'),\n",
       " Clade(branch_length=7.412597999999999, name='Mus_caroli'),\n",
       " Clade(branch_length=8.29082636, name='Mus_pahari'),\n",
       " Clade(branch_length=28.575520870000002, name='Meriones_unguiculatus'),\n",
       " Clade(branch_length=18.700000000000003, name='Mesocricetus_auratus'),\n",
       " Clade(branch_length=18.7, name='Cricetulus_griseus'),\n",
       " Clade(branch_length=22.82601462, name='Microtus_ochrogaster'),\n",
       " Clade(branch_length=28.799999999999997, name='Peromyscus_maniculatus'),\n",
       " Clade(branch_length=45.2691775, name='Nannospalax_galili'),\n",
       " Clade(branch_length=54.802392080000004, name='Jaculus_jaculus'),\n",
       " Clade(branch_length=63.25440499, name='Dipodomys_ordii'),\n",
       " Clade(branch_length=63.254405, name='Castor_canadensis'),\n",
       " Clade(branch_length=8.625255000000001, name='Ictidomys_tridecemlineatus'),\n",
       " Clade(branch_length=8.625255, name='Marmota_marmota'),\n",
       " Clade(branch_length=59.32436912, name='Otolemur_garnettii'),\n",
       " Clade(branch_length=37.78263868, name='Propithecus_coquereli'),\n",
       " Clade(branch_length=37.78263867, name='Microcebus_murinus'),\n",
       " Clade(branch_length=18.38385648, name='Callithrix_jacchus'),\n",
       " Clade(branch_length=18.38385646, name='Aotus_nancymaae'),\n",
       " Clade(branch_length=16.07046167, name='Saimiri_boliviensis'),\n",
       " Clade(branch_length=16.07046167, name='Cebus_capucinus'),\n",
       " Clade(branch_length=4.59037182, name='Mandrillus_leucophaeus'),\n",
       " Clade(branch_length=4.59037182, name='Cercocebus_atys'),\n",
       " Clade(branch_length=12.399999999999999, name='Papio_anubis'),\n",
       " Clade(branch_length=3.6860354500000003, name='Macaca_mulatta'),\n",
       " Clade(branch_length=3.68603545, name='Macaca_fascicularis'),\n",
       " Clade(branch_length=5.278162999999999, name='Macaca_nemestrina'),\n",
       " Clade(branch_length=13.74957083, name='Chlorocebus_sabaeus'),\n",
       " Clade(branch_length=2.67843333, name='Rhinopithecus_roxellana'),\n",
       " Clade(branch_length=2.6784333300000003, name='Rhinopithecus_bieti'),\n",
       " Clade(branch_length=12.800000010000002, name='Piliocolobus_tephrosceles'),\n",
       " Clade(branch_length=12.799999999999999, name='Colobus_angolensis'),\n",
       " Clade(branch_length=20.18921354, name='Nomascus_leucogenys'),\n",
       " Clade(branch_length=9.063095520000001, name='Gorilla_gorilla'),\n",
       " Clade(branch_length=2.82005943, name='Pan_troglodytes'),\n",
       " Clade(branch_length=2.82005943, name='Pan_paniscus'),\n",
       " Clade(branch_length=6.650905, name='Homo_sapiens'),\n",
       " Clade(branch_length=15.76216554, name='Pongo_abelii'),\n",
       " Clade(branch_length=75.69842445, name='Galeopterus_variegatus'),\n",
       " Clade(branch_length=82.10220709000001, name='Tupaia_belangeri'),\n",
       " Clade(branch_length=100.50636333, name='Dasypus_novemcinctus'),\n",
       " Clade(branch_length=65.48442306999999, name='Trichechus_manatus'),\n",
       " Clade(branch_length=65.48442308, name='Procavia_capensis'),\n",
       " Clade(branch_length=66.31683529, name='Loxodonta_africana'),\n",
       " Clade(branch_length=74.533175, name='Chrysochloris_asiatica'),\n",
       " Clade(branch_length=74.53317498999999, name='Elephantulus_edwardii'),\n",
       " Clade(branch_length=76.78646667, name='Orycteropus_afer'),\n",
       " Clade(branch_length=176.92749820999998, name='Ornithorhynchus_anatinus')]"
      ]
     },
     "execution_count": 144,
     "metadata": {},
     "output_type": "execute_result"
    }
   ],
   "source": [
    "tree.get_terminals()"
   ]
  }
 ],
 "metadata": {
  "kernelspec": {
   "display_name": "Python 3",
   "language": "python",
   "name": "python3"
  },
  "language_info": {
   "codemirror_mode": {
    "name": "ipython",
    "version": 3
   },
   "file_extension": ".py",
   "mimetype": "text/x-python",
   "name": "python",
   "nbconvert_exporter": "python",
   "pygments_lexer": "ipython3",
   "version": "3.8.5"
  }
 },
 "nbformat": 4,
 "nbformat_minor": 4
}
