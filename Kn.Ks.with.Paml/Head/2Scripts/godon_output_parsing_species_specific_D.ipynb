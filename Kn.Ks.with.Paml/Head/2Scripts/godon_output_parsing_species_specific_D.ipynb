{
 "cells": [
  {
   "cell_type": "code",
   "execution_count": 1,
   "metadata": {},
   "outputs": [],
   "source": [
    "import re"
   ]
  },
  {
   "cell_type": "code",
   "execution_count": 26,
   "metadata": {},
   "outputs": [],
   "source": [
    "clients  = !dir /b /a-d \\Users\\redmi\\Desktop\\HSP\\Kn.Ks.with.paml\\Body\\2_Derived\\Godon\\clients"
   ]
  },
  {
   "cell_type": "code",
   "execution_count": 27,
   "metadata": {},
   "outputs": [],
   "source": [
    "nonclients = !dir /b /a-d \\Users\\redmi\\Desktop\\HSP\\Kn.Ks.with.paml\\Body\\2_Derived\\Godon\\nonclients"
   ]
  },
  {
   "cell_type": "code",
   "execution_count": 30,
   "metadata": {},
   "outputs": [],
   "source": [
    "for file in clients:\n",
    "    godon = open('../../Body/2_Derived/Godon/clients/' + file).readlines()[6:]\n",
    "    godon = [x.split('\\n') for x in ''.join(godon).split('Testing branch')][1:]\n",
    "    \n",
    "    species = []\n",
    "    D = []\n",
    "    for x in godon:\n",
    "        regexppression = re.findall('[A-Z][a-z]+_[a-z]+_?[a-z]*#1', x[1])\n",
    "        if len(regexppression) > 0:\n",
    "            species.append(regexppression[0][:-2])\n",
    "            for i in x:\n",
    "                if 'Final D' in i:\n",
    "                    D.append(i[8:])\n",
    "                    \n",
    "                    \n",
    "    with open('../../Body/2_Derived/Godon/clients/parsed/parsed_' + file, 'w') as f:\n",
    "        head = 'species' + '\\t' + 'D' + '\\n'\n",
    "        f.write(head)\n",
    "        for sp, d in zip(species, D):\n",
    "            st = sp + '\\t' + d + '\\n'\n",
    "            f.write(st)"
   ]
  },
  {
   "cell_type": "code",
   "execution_count": 31,
   "metadata": {},
   "outputs": [],
   "source": [
    "for file in nonclients:\n",
    "    godon = open('../../Body/2_Derived/Godon/nonclients/' + file).readlines()[6:]\n",
    "    godon = [x.split('\\n') for x in ''.join(godon).split('Testing branch')][1:]\n",
    "    \n",
    "    species = []\n",
    "    D = []\n",
    "    for x in godon:\n",
    "        regexppression = re.findall('[A-Z][a-z]+_[a-z]+_?[a-z]*#1', x[1])\n",
    "        if len(regexppression) > 0:\n",
    "            species.append(regexppression[0][:-2])\n",
    "            for i in x:\n",
    "                if 'Final D' in i:\n",
    "                    D.append(i[8:])\n",
    "                    \n",
    "                    \n",
    "    with open('../../Body/2_Derived/Godon/nonclients/parsed/parsed_' + file, 'w') as f:\n",
    "        head = 'species' + '\\t' + 'D' + '\\n'\n",
    "        f.write(head)\n",
    "        for sp, d in zip(species, D):\n",
    "            st = sp + '\\t' + d + '\\n'\n",
    "            f.write(st)"
   ]
  },
  {
   "cell_type": "code",
   "execution_count": null,
   "metadata": {},
   "outputs": [],
   "source": []
  }
 ],
 "metadata": {
  "kernelspec": {
   "display_name": "Python 3",
   "language": "python",
   "name": "python3"
  },
  "language_info": {
   "codemirror_mode": {
    "name": "ipython",
    "version": 3
   },
   "file_extension": ".py",
   "mimetype": "text/x-python",
   "name": "python",
   "nbconvert_exporter": "python",
   "pygments_lexer": "ipython3",
   "version": "3.8.5"
  }
 },
 "nbformat": 4,
 "nbformat_minor": 2
}
