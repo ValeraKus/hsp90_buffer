{
 "cells": [
  {
   "cell_type": "code",
   "execution_count": 1,
   "metadata": {},
   "outputs": [
    {
     "name": "stdout",
     "output_type": "stream",
     "text": [
      "#~/paml4.9j/bin/codeml ./ctl_files_hsps/ENSG00000069345_DNAJA2_NT_branch_model.ctl\n",
      "\n",
      "#~/paml4.9j/bin/codeml ./ctl_files_hsps/ENSG00000115484_CCT4_NT_branch_model.ctl\n",
      "\n",
      "#~/paml4.9j/bin/codeml ./ctl_files_hsps/ENSG00000120438_TCP1_NT_branch_model.ctl\n",
      "\n",
      "#~/paml4.9j/bin/codeml ./ctl_files_hsps/ENSG00000156261_CCT8_NT_branch_model.ctl\n",
      "\n",
      "#~/paml4.9j/bin/codeml ./ctl_files_hsps/ENSG00000166226_CCT2_NT_branch_model.ctl\n",
      "\n",
      "#~/paml4.9j/bin/codeml ./ctl_files_hsps/ENSG00000168259_DNAJC7_NT_branch_model.ctl\n",
      "\n"
     ]
    }
   ],
   "source": [
    "monocomands = open('../../Body/2_Derived/hsps/monocomands_hsps_paml.txt').readlines()\n",
    "success = [x.strip()[:-4] for x in open('../../Body/2_Derived/hsps/success.txt').readlines()]\n",
    "\n",
    "for s in success:\n",
    "    for m in range(len(monocomands)):\n",
    "        if s in monocomands[m]:\n",
    "            monocomands[m] = '#' + monocomands[m]\n",
    "            print(monocomands[m])\n",
    "            \n",
    "with open('../../Body/2_Derived/hsps/monocomands_hsps_paml_1.txt', 'w') as f:\n",
    "    for line in monocomands:\n",
    "        if line[0] != '#':\n",
    "            f.write(line)\n",
    "    f.close()"
   ]
  },
  {
   "cell_type": "code",
   "execution_count": 2,
   "metadata": {
    "scrolled": false
   },
   "outputs": [
    {
     "name": "stdout",
     "output_type": "stream",
     "text": [
      "#~/paml4.9j/bin/codeml ./ctl_files_nonhsp/ENSG00000108946_PRKAR1A_NT_branch_model.ctl\n",
      "\n",
      "#~/paml4.9j/bin/codeml ./ctl_files_nonhsp/ENSG00000121741_ZMYM2_NT_branch_model.ctl\n",
      "\n",
      "#~/paml4.9j/bin/codeml ./ctl_files_nonhsp/ENSG00000125944_HNRNPR_NT_branch_model.ctl\n",
      "\n",
      "#~/paml4.9j/bin/codeml ./ctl_files_nonhsp/ENSG00000141030_COPS3_NT_branch_model.ctl\n",
      "\n",
      "#~/paml4.9j/bin/codeml ./ctl_files_nonhsp/ENSG00000159256_MORC3_NT_branch_model.ctl\n",
      "\n"
     ]
    }
   ],
   "source": [
    "monocomands = open('../../Body/2_Derived/nonhsp/monocomands_nonhsp_paml.txt').readlines()\n",
    "success = [x.strip()[:-4] for x in open('../../Body/2_Derived/nonhsp/success.txt').readlines()]\n",
    "\n",
    "for s in success:\n",
    "    for m in range(len(monocomands)):\n",
    "        if s in monocomands[m]:\n",
    "            monocomands[m] = '#' + monocomands[m]\n",
    "            print(monocomands[m])\n",
    "            \n",
    "with open('../../Body/2_Derived/nonhsp/monocomands_nonhsp_paml_1.txt', 'w') as f:\n",
    "    for line in monocomands:\n",
    "        if line[0] != '#':\n",
    "            f.write(line)\n",
    "    f.close()"
   ]
  },
  {
   "cell_type": "code",
   "execution_count": 34,
   "metadata": {},
   "outputs": [
    {
     "name": "stdout",
     "output_type": "stream",
     "text": [
      "#~/paml4.9j/bin/codeml ~/PAML/Scripts/clients/ctl_files_clients/ENSG00000009765_IYD_NT_branch_model.ctl\n",
      "\n",
      "#~/paml4.9j/bin/codeml ~/PAML/Scripts/clients/ctl_files_clients/ENSG00000012124_CD22_NT_branch_model.ctl\n",
      "\n",
      "#~/paml4.9j/bin/codeml ~/PAML/Scripts/clients/ctl_files_clients/ENSG00000108370_RGS9_NT_branch_model.ctl\n",
      "\n",
      "#~/paml4.9j/bin/codeml ~/PAML/Scripts/clients/ctl_files_clients/ENSG00000109424_UCP1_NT_branch_model.ctl\n",
      "\n",
      "#~/paml4.9j/bin/codeml ~/PAML/Scripts/clients/ctl_files_clients/ENSG00000134574_DDB2_NT_branch_model.ctl\n",
      "\n",
      "#~/paml4.9j/bin/codeml ~/PAML/Scripts/clients/ctl_files_clients/ENSG00000135446_CDK4_NT_branch_model.ctl\n",
      "\n",
      "#~/paml4.9j/bin/codeml ~/PAML/Scripts/clients/ctl_files_clients/ENSG00000141510_TP53_NT_branch_model.ctl\n",
      "\n",
      "#~/paml4.9j/bin/codeml ~/PAML/Scripts/clients/ctl_files_clients/ENSG00000145020_AMT_NT_branch_model.ctl\n",
      "\n"
     ]
    }
   ],
   "source": [
    "monocomands = open('../../Body/2_Derived/clients/monocomands_clients_paml.txt').readlines()\n",
    "success = [x.strip()[:-4] for x in open('../../Body/2_Derived/clients/success.txt').readlines()]\n",
    "\n",
    "for s in success:\n",
    "    for m in range(len(monocomands)):\n",
    "        if s in monocomands[m]:\n",
    "            monocomands[m] = '#' + monocomands[m]\n",
    "            print(monocomands[m])\n",
    "            \n",
    "with open('../../Body/2_Derived/clients/monocomands_clients_paml_1.txt', 'w') as f:\n",
    "    for line in monocomands:\n",
    "        if line[0] != '#':\n",
    "            f.write(line)\n",
    "    f.close()"
   ]
  },
  {
   "cell_type": "code",
   "execution_count": 35,
   "metadata": {},
   "outputs": [
    {
     "name": "stdout",
     "output_type": "stream",
     "text": [
      "#~/paml4.9j/bin/codeml ctl_files_nonclients/ENSG00000004961_HCCS_NT_branch_model.ctl\n",
      "\n",
      "#~/paml4.9j/bin/codeml ctl_files_nonclients/ENSG00000017427_IGF1_NT_branch_model.ctl\n",
      "\n",
      "#~/paml4.9j/bin/codeml ctl_files_nonclients/ENSG00000029364_SLC39A9_NT_branch_model.ctl\n",
      "\n",
      "#~/paml4.9j/bin/codeml ctl_files_nonclients/ENSG00000072952_MRVI1_NT_branch_model.ctl\n",
      "\n",
      "#~/paml4.9j/bin/codeml ctl_files_nonclients/ENSG00000087842_PIR_NT_branch_model.ctl\n",
      "\n",
      "#~/paml4.9j/bin/codeml ctl_files_nonclients/ENSG00000088833_NSFL1C_NT_branch_model.ctl\n",
      "\n"
     ]
    }
   ],
   "source": [
    "monocomands = open('../../Body/2_Derived/nonclients/monocomands_nonclients_paml.txt').readlines()\n",
    "success = [x.strip()[:-4] for x in open('../../Body/2_Derived/nonclients/seccess.txt').readlines()]\n",
    "\n",
    "for s in success:\n",
    "    for m in range(len(monocomands)):\n",
    "        if s in monocomands[m]:\n",
    "            monocomands[m] = '#' + monocomands[m]\n",
    "            print(monocomands[m])\n",
    "            \n",
    "with open('../../Body/2_Derived/nonclients/monocomands_nonclients_paml_1.txt', 'w') as f:\n",
    "    for line in monocomands:\n",
    "        if line[0] != '#':\n",
    "            f.write(line)\n",
    "    f.close()"
   ]
  }
 ],
 "metadata": {
  "kernelspec": {
   "display_name": "Python 3",
   "language": "python",
   "name": "python3"
  },
  "language_info": {
   "codemirror_mode": {
    "name": "ipython",
    "version": 3
   },
   "file_extension": ".py",
   "mimetype": "text/x-python",
   "name": "python",
   "nbconvert_exporter": "python",
   "pygments_lexer": "ipython3",
   "version": "3.8.5"
  }
 },
 "nbformat": 4,
 "nbformat_minor": 4
}
