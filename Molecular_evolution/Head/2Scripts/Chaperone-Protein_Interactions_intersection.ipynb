{
 "cells": [
  {
   "cell_type": "code",
   "execution_count": 1,
   "metadata": {},
   "outputs": [],
   "source": [
    "import numpy as np\n",
    "import pandas as pd\n",
    "import matplotlib.pyplot as plt\n",
    "%matplotlib inline"
   ]
  },
  {
   "cell_type": "code",
   "execution_count": 2,
   "metadata": {},
   "outputs": [],
   "source": [
    "interactome = [i.strip() for i in open('../../Body/1_Raw/HumanInteractome-union.tsv', 'r').readlines()]"
   ]
  },
  {
   "cell_type": "code",
   "execution_count": 3,
   "metadata": {},
   "outputs": [
    {
     "data": {
      "text/plain": [
       "'ENSG00000000005\\tENSG00000061656'"
      ]
     },
     "execution_count": 3,
     "metadata": {},
     "output_type": "execute_result"
    }
   ],
   "source": [
    "interactome[0]"
   ]
  },
  {
   "cell_type": "code",
   "execution_count": 2,
   "metadata": {},
   "outputs": [],
   "source": [
    "chaperome = pd.read_excel('../../Body/1_Raw/pre-Karras-chaperone-proteinr-interaction-profile.xlsx')"
   ]
  },
  {
   "cell_type": "code",
   "execution_count": 3,
   "metadata": {},
   "outputs": [
    {
     "data": {
      "text/html": [
       "<div>\n",
       "<style scoped>\n",
       "    .dataframe tbody tr th:only-of-type {\n",
       "        vertical-align: middle;\n",
       "    }\n",
       "\n",
       "    .dataframe tbody tr th {\n",
       "        vertical-align: top;\n",
       "    }\n",
       "\n",
       "    .dataframe thead th {\n",
       "        text-align: right;\n",
       "    }\n",
       "</style>\n",
       "<table border=\"1\" class=\"dataframe\">\n",
       "  <thead>\n",
       "    <tr style=\"text-align: right;\">\n",
       "      <th></th>\n",
       "      <th>Category</th>\n",
       "      <th>Symbol</th>\n",
       "      <th>Entrez_Gene_ID</th>\n",
       "      <th>Allele_ID</th>\n",
       "      <th>Mutation_RefSeq_NT</th>\n",
       "      <th>Mutation_RefSeq_AA</th>\n",
       "      <th>WT_ELISA_score</th>\n",
       "      <th>Mut_ELISA_score</th>\n",
       "      <th>Both_expressed</th>\n",
       "      <th>WT_interaction_score</th>\n",
       "      <th>Mut_interaction_score</th>\n",
       "      <th>Differential_Z_score</th>\n",
       "      <th>Interact</th>\n",
       "      <th>Quality_control_factor_common</th>\n",
       "      <th>Quality_control_factor_official</th>\n",
       "    </tr>\n",
       "  </thead>\n",
       "  <tbody>\n",
       "    <tr>\n",
       "      <th>0</th>\n",
       "      <td>Disease mutation</td>\n",
       "      <td>A4GALT</td>\n",
       "      <td>53947</td>\n",
       "      <td>53947_1850</td>\n",
       "      <td>NM_017436:c.287G&gt;A</td>\n",
       "      <td>NP_059132:p.C96Y</td>\n",
       "      <td>0.51</td>\n",
       "      <td>0.79</td>\n",
       "      <td>1</td>\n",
       "      <td>1.398952</td>\n",
       "      <td>4.766989</td>\n",
       "      <td>3.105452</td>\n",
       "      <td>yes</td>\n",
       "      <td>BAG2</td>\n",
       "      <td>BAG2</td>\n",
       "    </tr>\n",
       "    <tr>\n",
       "      <th>1</th>\n",
       "      <td>Disease mutation</td>\n",
       "      <td>A4GALT</td>\n",
       "      <td>53947</td>\n",
       "      <td>53947_1852</td>\n",
       "      <td>NM_017436:c.299C&gt;T</td>\n",
       "      <td>NP_059132:p.S100L</td>\n",
       "      <td>0.51</td>\n",
       "      <td>0.71</td>\n",
       "      <td>1</td>\n",
       "      <td>1.398952</td>\n",
       "      <td>5.029331</td>\n",
       "      <td>3.347341</td>\n",
       "      <td>yes</td>\n",
       "      <td>BAG2</td>\n",
       "      <td>BAG2</td>\n",
       "    </tr>\n",
       "    <tr>\n",
       "      <th>2</th>\n",
       "      <td>Disease mutation</td>\n",
       "      <td>A4GALT</td>\n",
       "      <td>53947</td>\n",
       "      <td>53947_1854</td>\n",
       "      <td>NM_017436:c.548T&gt;A</td>\n",
       "      <td>NP_059132:p.M183K</td>\n",
       "      <td>0.51</td>\n",
       "      <td>0.48</td>\n",
       "      <td>1</td>\n",
       "      <td>1.398952</td>\n",
       "      <td>1.595533</td>\n",
       "      <td>0.181255</td>\n",
       "      <td>NaN</td>\n",
       "      <td>BAG2</td>\n",
       "      <td>BAG2</td>\n",
       "    </tr>\n",
       "    <tr>\n",
       "      <th>3</th>\n",
       "      <td>Disease mutation</td>\n",
       "      <td>A4GALT</td>\n",
       "      <td>53947</td>\n",
       "      <td>53947_1856</td>\n",
       "      <td>NM_017436:c.656C&gt;T</td>\n",
       "      <td>NP_059132:p.A219V</td>\n",
       "      <td>0.51</td>\n",
       "      <td>0.75</td>\n",
       "      <td>1</td>\n",
       "      <td>1.398952</td>\n",
       "      <td>4.833744</td>\n",
       "      <td>3.167002</td>\n",
       "      <td>yes</td>\n",
       "      <td>BAG2</td>\n",
       "      <td>BAG2</td>\n",
       "    </tr>\n",
       "    <tr>\n",
       "      <th>4</th>\n",
       "      <td>Disease mutation</td>\n",
       "      <td>AAAS</td>\n",
       "      <td>8086</td>\n",
       "      <td>8086_5606</td>\n",
       "      <td>NM_015665:c.43C&gt;A</td>\n",
       "      <td>NP_056480:p.Q15K</td>\n",
       "      <td>0.20</td>\n",
       "      <td>0.35</td>\n",
       "      <td>0</td>\n",
       "      <td>6.765101</td>\n",
       "      <td>9.823864</td>\n",
       "      <td>2.820292</td>\n",
       "      <td>NaN</td>\n",
       "      <td>BAG2</td>\n",
       "      <td>BAG2</td>\n",
       "    </tr>\n",
       "  </tbody>\n",
       "</table>\n",
       "</div>"
      ],
      "text/plain": [
       "           Category  Symbol  Entrez_Gene_ID   Allele_ID  Mutation_RefSeq_NT  \\\n",
       "0  Disease mutation  A4GALT           53947  53947_1850  NM_017436:c.287G>A   \n",
       "1  Disease mutation  A4GALT           53947  53947_1852  NM_017436:c.299C>T   \n",
       "2  Disease mutation  A4GALT           53947  53947_1854  NM_017436:c.548T>A   \n",
       "3  Disease mutation  A4GALT           53947  53947_1856  NM_017436:c.656C>T   \n",
       "4  Disease mutation    AAAS            8086   8086_5606   NM_015665:c.43C>A   \n",
       "\n",
       "  Mutation_RefSeq_AA  WT_ELISA_score  Mut_ELISA_score  Both_expressed  \\\n",
       "0   NP_059132:p.C96Y            0.51             0.79               1   \n",
       "1  NP_059132:p.S100L            0.51             0.71               1   \n",
       "2  NP_059132:p.M183K            0.51             0.48               1   \n",
       "3  NP_059132:p.A219V            0.51             0.75               1   \n",
       "4   NP_056480:p.Q15K            0.20             0.35               0   \n",
       "\n",
       "   WT_interaction_score  Mut_interaction_score  Differential_Z_score Interact  \\\n",
       "0              1.398952               4.766989              3.105452      yes   \n",
       "1              1.398952               5.029331              3.347341      yes   \n",
       "2              1.398952               1.595533              0.181255      NaN   \n",
       "3              1.398952               4.833744              3.167002      yes   \n",
       "4              6.765101               9.823864              2.820292      NaN   \n",
       "\n",
       "  Quality_control_factor_common Quality_control_factor_official  \n",
       "0                          BAG2                            BAG2  \n",
       "1                          BAG2                            BAG2  \n",
       "2                          BAG2                            BAG2  \n",
       "3                          BAG2                            BAG2  \n",
       "4                          BAG2                            BAG2  "
      ]
     },
     "execution_count": 3,
     "metadata": {},
     "output_type": "execute_result"
    }
   ],
   "source": [
    "chaperome.head()"
   ]
  },
  {
   "cell_type": "code",
   "execution_count": 6,
   "metadata": {},
   "outputs": [
    {
     "name": "stdout",
     "output_type": "stream",
     "text": [
      "<class 'pandas.core.frame.DataFrame'>\n",
      "RangeIndex: 16464 entries, 0 to 16463\n",
      "Data columns (total 15 columns):\n",
      "Category                           16464 non-null object\n",
      "Symbol                             16464 non-null object\n",
      "Entrez_Gene_ID                     16464 non-null int64\n",
      "Allele_ID                          16464 non-null object\n",
      "Mutation_RefSeq_NT                 16464 non-null object\n",
      "Mutation_RefSeq_AA                 16464 non-null object\n",
      "WT_ELISA_score                     16464 non-null float64\n",
      "Mut_ELISA_score                    16464 non-null float64\n",
      "Both_expressed                     16464 non-null int64\n",
      "WT_interaction_score               16464 non-null float64\n",
      "Mut_interaction_score              16464 non-null float64\n",
      "Differential_Z_score               16464 non-null float64\n",
      "Interact                           1169 non-null object\n",
      "Quality_control_factor_common      16464 non-null object\n",
      "Quality_control_factor_official    16464 non-null object\n",
      "dtypes: float64(5), int64(2), object(8)\n",
      "memory usage: 1.9+ MB\n"
     ]
    }
   ],
   "source": [
    "chaperome.info()"
   ]
  },
  {
   "cell_type": "code",
   "execution_count": 7,
   "metadata": {},
   "outputs": [
    {
     "data": {
      "text/plain": [
       "array(['BAG2', 'STUB1', 'HSPA5', 'HSP90B1', 'HSPA8', 'HSP90AB1', 'PSMD2'],\n",
       "      dtype=object)"
      ]
     },
     "execution_count": 7,
     "metadata": {},
     "output_type": "execute_result"
    }
   ],
   "source": [
    "chaperome['Quality_control_factor_official'].unique()"
   ]
  },
  {
   "cell_type": "code",
   "execution_count": 8,
   "metadata": {},
   "outputs": [
    {
     "data": {
      "text/plain": [
       "array(['BAG2', 'CHIP', 'GRP78', 'GRP94', 'HSC70', 'HSP90', 'PSMD2'],\n",
       "      dtype=object)"
      ]
     },
     "execution_count": 8,
     "metadata": {},
     "output_type": "execute_result"
    }
   ],
   "source": [
    "chaperome['Quality_control_factor_common'].unique()"
   ]
  },
  {
   "cell_type": "markdown",
   "metadata": {},
   "source": [
    "Будем брать только взаимодействия с HSP90 и HSC70 (HSP90AB1 и HSPA8), так как остальные либо кошапероны, либо работают в ЭПР."
   ]
  },
  {
   "cell_type": "code",
   "execution_count": 4,
   "metadata": {},
   "outputs": [],
   "source": [
    "chaperome = chaperome[(chaperome['Quality_control_factor_common'] == 'HSP90') | (chaperome['Quality_control_factor_common'] == 'HSC70')]"
   ]
  },
  {
   "cell_type": "code",
   "execution_count": 10,
   "metadata": {},
   "outputs": [
    {
     "name": "stdout",
     "output_type": "stream",
     "text": [
      "(4804, 15)\n",
      "997\n"
     ]
    },
    {
     "data": {
      "text/html": [
       "<div>\n",
       "<style scoped>\n",
       "    .dataframe tbody tr th:only-of-type {\n",
       "        vertical-align: middle;\n",
       "    }\n",
       "\n",
       "    .dataframe tbody tr th {\n",
       "        vertical-align: top;\n",
       "    }\n",
       "\n",
       "    .dataframe thead th {\n",
       "        text-align: right;\n",
       "    }\n",
       "</style>\n",
       "<table border=\"1\" class=\"dataframe\">\n",
       "  <thead>\n",
       "    <tr style=\"text-align: right;\">\n",
       "      <th></th>\n",
       "      <th>Category</th>\n",
       "      <th>Symbol</th>\n",
       "      <th>Entrez_Gene_ID</th>\n",
       "      <th>Allele_ID</th>\n",
       "      <th>Mutation_RefSeq_NT</th>\n",
       "      <th>Mutation_RefSeq_AA</th>\n",
       "      <th>WT_ELISA_score</th>\n",
       "      <th>Mut_ELISA_score</th>\n",
       "      <th>Both_expressed</th>\n",
       "      <th>WT_interaction_score</th>\n",
       "      <th>Mut_interaction_score</th>\n",
       "      <th>Differential_Z_score</th>\n",
       "      <th>Interact</th>\n",
       "      <th>Quality_control_factor_common</th>\n",
       "      <th>Quality_control_factor_official</th>\n",
       "    </tr>\n",
       "  </thead>\n",
       "  <tbody>\n",
       "    <tr>\n",
       "      <td>9328</td>\n",
       "      <td>Disease mutation</td>\n",
       "      <td>A4GALT</td>\n",
       "      <td>53947</td>\n",
       "      <td>53947_1850</td>\n",
       "      <td>NM_017436:c.287G&gt;A</td>\n",
       "      <td>NP_059132:p.C96Y</td>\n",
       "      <td>0.63</td>\n",
       "      <td>0.58</td>\n",
       "      <td>1</td>\n",
       "      <td>0.602571</td>\n",
       "      <td>0.811199</td>\n",
       "      <td>0.426367</td>\n",
       "      <td>NaN</td>\n",
       "      <td>HSC70</td>\n",
       "      <td>HSPA8</td>\n",
       "    </tr>\n",
       "    <tr>\n",
       "      <td>9329</td>\n",
       "      <td>Disease mutation</td>\n",
       "      <td>A4GALT</td>\n",
       "      <td>53947</td>\n",
       "      <td>53947_1852</td>\n",
       "      <td>NM_017436:c.299C&gt;T</td>\n",
       "      <td>NP_059132:p.S100L</td>\n",
       "      <td>0.63</td>\n",
       "      <td>0.41</td>\n",
       "      <td>1</td>\n",
       "      <td>0.602571</td>\n",
       "      <td>-0.130487</td>\n",
       "      <td>-1.498131</td>\n",
       "      <td>NaN</td>\n",
       "      <td>HSC70</td>\n",
       "      <td>HSPA8</td>\n",
       "    </tr>\n",
       "    <tr>\n",
       "      <td>9330</td>\n",
       "      <td>Disease mutation</td>\n",
       "      <td>A4GALT</td>\n",
       "      <td>53947</td>\n",
       "      <td>53947_1854</td>\n",
       "      <td>NM_017436:c.548T&gt;A</td>\n",
       "      <td>NP_059132:p.M183K</td>\n",
       "      <td>0.63</td>\n",
       "      <td>0.58</td>\n",
       "      <td>1</td>\n",
       "      <td>0.602571</td>\n",
       "      <td>0.934306</td>\n",
       "      <td>0.677957</td>\n",
       "      <td>NaN</td>\n",
       "      <td>HSC70</td>\n",
       "      <td>HSPA8</td>\n",
       "    </tr>\n",
       "    <tr>\n",
       "      <td>9331</td>\n",
       "      <td>Disease mutation</td>\n",
       "      <td>A4GALT</td>\n",
       "      <td>53947</td>\n",
       "      <td>53947_1856</td>\n",
       "      <td>NM_017436:c.656C&gt;T</td>\n",
       "      <td>NP_059132:p.A219V</td>\n",
       "      <td>0.63</td>\n",
       "      <td>0.60</td>\n",
       "      <td>1</td>\n",
       "      <td>0.602571</td>\n",
       "      <td>0.617262</td>\n",
       "      <td>0.030023</td>\n",
       "      <td>NaN</td>\n",
       "      <td>HSC70</td>\n",
       "      <td>HSPA8</td>\n",
       "    </tr>\n",
       "    <tr>\n",
       "      <td>9332</td>\n",
       "      <td>Disease mutation</td>\n",
       "      <td>AAAS</td>\n",
       "      <td>8086</td>\n",
       "      <td>8086_5606</td>\n",
       "      <td>NM_015665:c.43C&gt;A</td>\n",
       "      <td>NP_056480:p.Q15K</td>\n",
       "      <td>0.40</td>\n",
       "      <td>0.38</td>\n",
       "      <td>1</td>\n",
       "      <td>3.401533</td>\n",
       "      <td>3.371882</td>\n",
       "      <td>-0.060597</td>\n",
       "      <td>NaN</td>\n",
       "      <td>HSC70</td>\n",
       "      <td>HSPA8</td>\n",
       "    </tr>\n",
       "  </tbody>\n",
       "</table>\n",
       "</div>"
      ],
      "text/plain": [
       "              Category  Symbol  Entrez_Gene_ID   Allele_ID  \\\n",
       "9328  Disease mutation  A4GALT           53947  53947_1850   \n",
       "9329  Disease mutation  A4GALT           53947  53947_1852   \n",
       "9330  Disease mutation  A4GALT           53947  53947_1854   \n",
       "9331  Disease mutation  A4GALT           53947  53947_1856   \n",
       "9332  Disease mutation    AAAS            8086   8086_5606   \n",
       "\n",
       "      Mutation_RefSeq_NT Mutation_RefSeq_AA  WT_ELISA_score  Mut_ELISA_score  \\\n",
       "9328  NM_017436:c.287G>A   NP_059132:p.C96Y            0.63             0.58   \n",
       "9329  NM_017436:c.299C>T  NP_059132:p.S100L            0.63             0.41   \n",
       "9330  NM_017436:c.548T>A  NP_059132:p.M183K            0.63             0.58   \n",
       "9331  NM_017436:c.656C>T  NP_059132:p.A219V            0.63             0.60   \n",
       "9332   NM_015665:c.43C>A   NP_056480:p.Q15K            0.40             0.38   \n",
       "\n",
       "      Both_expressed  WT_interaction_score  Mut_interaction_score  \\\n",
       "9328               1              0.602571               0.811199   \n",
       "9329               1              0.602571              -0.130487   \n",
       "9330               1              0.602571               0.934306   \n",
       "9331               1              0.602571               0.617262   \n",
       "9332               1              3.401533               3.371882   \n",
       "\n",
       "      Differential_Z_score Interact Quality_control_factor_common  \\\n",
       "9328              0.426367      NaN                         HSC70   \n",
       "9329             -1.498131      NaN                         HSC70   \n",
       "9330              0.677957      NaN                         HSC70   \n",
       "9331              0.030023      NaN                         HSC70   \n",
       "9332             -0.060597      NaN                         HSC70   \n",
       "\n",
       "     Quality_control_factor_official  \n",
       "9328                           HSPA8  \n",
       "9329                           HSPA8  \n",
       "9330                           HSPA8  \n",
       "9331                           HSPA8  \n",
       "9332                           HSPA8  "
      ]
     },
     "execution_count": 10,
     "metadata": {},
     "output_type": "execute_result"
    }
   ],
   "source": [
    "print(chaperome.shape)\n",
    "print(len(np.unique(chaperome['Entrez_Gene_ID'])))\n",
    "chaperome.head()"
   ]
  },
  {
   "cell_type": "markdown",
   "metadata": {},
   "source": [
    "Из BioMart берем данные по соответсвию Entrez и Ensembl ID (https://m.ensembl.org/biomart/martview/3159cd65cf7ba8e1637d641e08d61854)"
   ]
  },
  {
   "cell_type": "code",
   "execution_count": 5,
   "metadata": {},
   "outputs": [],
   "source": [
    "biomart_genes = pd.read_table('../../Body/1_Raw/biomart_human_ensembl_entrez_ids.txt')"
   ]
  },
  {
   "cell_type": "code",
   "execution_count": 6,
   "metadata": {},
   "outputs": [],
   "source": [
    "biomart_genes = biomart_genes[['Gene stable ID', 'NCBI gene (formerly Entrezgene) ID']].dropna()"
   ]
  },
  {
   "cell_type": "code",
   "execution_count": 7,
   "metadata": {},
   "outputs": [
    {
     "name": "stdout",
     "output_type": "stream",
     "text": [
      "(169019, 2)\n"
     ]
    },
    {
     "data": {
      "text/html": [
       "<div>\n",
       "<style scoped>\n",
       "    .dataframe tbody tr th:only-of-type {\n",
       "        vertical-align: middle;\n",
       "    }\n",
       "\n",
       "    .dataframe tbody tr th {\n",
       "        vertical-align: top;\n",
       "    }\n",
       "\n",
       "    .dataframe thead th {\n",
       "        text-align: right;\n",
       "    }\n",
       "</style>\n",
       "<table border=\"1\" class=\"dataframe\">\n",
       "  <thead>\n",
       "    <tr style=\"text-align: right;\">\n",
       "      <th></th>\n",
       "      <th>Gene stable ID</th>\n",
       "      <th>NCBI gene (formerly Entrezgene) ID</th>\n",
       "    </tr>\n",
       "  </thead>\n",
       "  <tbody>\n",
       "    <tr>\n",
       "      <th>5</th>\n",
       "      <td>ENSG00000198888</td>\n",
       "      <td>4535.0</td>\n",
       "    </tr>\n",
       "    <tr>\n",
       "      <th>9</th>\n",
       "      <td>ENSG00000198763</td>\n",
       "      <td>4536.0</td>\n",
       "    </tr>\n",
       "    <tr>\n",
       "      <th>15</th>\n",
       "      <td>ENSG00000198804</td>\n",
       "      <td>4512.0</td>\n",
       "    </tr>\n",
       "    <tr>\n",
       "      <th>18</th>\n",
       "      <td>ENSG00000198712</td>\n",
       "      <td>4513.0</td>\n",
       "    </tr>\n",
       "    <tr>\n",
       "      <th>20</th>\n",
       "      <td>ENSG00000228253</td>\n",
       "      <td>4509.0</td>\n",
       "    </tr>\n",
       "  </tbody>\n",
       "</table>\n",
       "</div>"
      ],
      "text/plain": [
       "     Gene stable ID  NCBI gene (formerly Entrezgene) ID\n",
       "5   ENSG00000198888                              4535.0\n",
       "9   ENSG00000198763                              4536.0\n",
       "15  ENSG00000198804                              4512.0\n",
       "18  ENSG00000198712                              4513.0\n",
       "20  ENSG00000228253                              4509.0"
      ]
     },
     "execution_count": 7,
     "metadata": {},
     "output_type": "execute_result"
    }
   ],
   "source": [
    "print(biomart_genes.shape)\n",
    "biomart_genes.head()"
   ]
  },
  {
   "cell_type": "code",
   "execution_count": 8,
   "metadata": {},
   "outputs": [],
   "source": [
    "biomart_genes['NCBI gene (formerly Entrezgene) ID'] = biomart_genes['NCBI gene (formerly Entrezgene) ID'].astype(int)"
   ]
  },
  {
   "cell_type": "code",
   "execution_count": 9,
   "metadata": {},
   "outputs": [
    {
     "data": {
      "text/plain": [
       "996"
      ]
     },
     "execution_count": 9,
     "metadata": {},
     "output_type": "execute_result"
    }
   ],
   "source": [
    "len(set(chaperome['Entrez_Gene_ID']).intersection(set(biomart_genes['NCBI gene (formerly Entrezgene) ID'])))"
   ]
  },
  {
   "cell_type": "code",
   "execution_count": 10,
   "metadata": {},
   "outputs": [
    {
     "data": {
      "text/plain": [
       "145       ENSG00000092330\n",
       "150       ENSG00000092330\n",
       "185       ENSG00000092330\n",
       "190       ENSG00000092330\n",
       "193       ENSG00000092330\n",
       "               ...       \n",
       "250804    ENSG00000284061\n",
       "250805    ENSG00000284061\n",
       "250806    ENSG00000284061\n",
       "250807    ENSG00000284061\n",
       "250808    ENSG00000284061\n",
       "Name: Gene stable ID, Length: 11133, dtype: object"
      ]
     },
     "execution_count": 10,
     "metadata": {},
     "output_type": "execute_result"
    }
   ],
   "source": [
    "biomart_genes[biomart_genes['NCBI gene (formerly Entrezgene) ID'].isin(chaperome['Entrez_Gene_ID'])]['Gene stable ID']"
   ]
  },
  {
   "cell_type": "code",
   "execution_count": 11,
   "metadata": {},
   "outputs": [],
   "source": [
    "chaperome['EnsemlID'] = 0"
   ]
  },
  {
   "cell_type": "code",
   "execution_count": 12,
   "metadata": {},
   "outputs": [],
   "source": [
    "for _id in np.unique(biomart_genes['NCBI gene (formerly Entrezgene) ID']):\n",
    "    if _id in np.unique(chaperome['Entrez_Gene_ID']):\n",
    "        chaperome.loc[chaperome[chaperome['Entrez_Gene_ID'] == _id].index,'EnsemlID'] = list(biomart_genes[biomart_genes['NCBI gene (formerly Entrezgene) ID'] == _id]['Gene stable ID'])[0]"
   ]
  },
  {
   "cell_type": "code",
   "execution_count": 13,
   "metadata": {},
   "outputs": [
    {
     "data": {
      "text/plain": [
       "997"
      ]
     },
     "execution_count": 13,
     "metadata": {},
     "output_type": "execute_result"
    }
   ],
   "source": [
    "len(chaperome['EnsemlID'].unique())"
   ]
  },
  {
   "cell_type": "code",
   "execution_count": 14,
   "metadata": {},
   "outputs": [
    {
     "data": {
      "text/plain": [
       "997"
      ]
     },
     "execution_count": 14,
     "metadata": {},
     "output_type": "execute_result"
    }
   ],
   "source": [
    "len(np.unique(chaperome['Entrez_Gene_ID']))"
   ]
  },
  {
   "cell_type": "markdown",
   "metadata": {},
   "source": [
    "УРА"
   ]
  },
  {
   "cell_type": "markdown",
   "metadata": {},
   "source": [
    "## Теперь посмотрим на пересечение\n",
    "### Сначала для HSP90"
   ]
  },
  {
   "cell_type": "code",
   "execution_count": 22,
   "metadata": {},
   "outputs": [
    {
     "data": {
      "text/plain": [
       "840"
      ]
     },
     "execution_count": 22,
     "metadata": {},
     "output_type": "execute_result"
    }
   ],
   "source": [
    "hsp90_int = (chaperome[(chaperome['Quality_control_factor_common'] == 'HSP90')  & (chaperome['EnsemlID'] != 0) & (chaperome['WT_ELISA_score'] > 0.2)][['EnsemlID', 'WT_interaction_score']].drop_duplicates())\n",
    "len(hsp90_int)"
   ]
  },
  {
   "cell_type": "code",
   "execution_count": 57,
   "metadata": {},
   "outputs": [
    {
     "data": {
      "text/plain": [
       "997"
      ]
     },
     "execution_count": 57,
     "metadata": {},
     "output_type": "execute_result"
    }
   ],
   "source": [
    "len(set(chaperome.Entrez_Gene_ID))"
   ]
  },
  {
   "cell_type": "code",
   "execution_count": 47,
   "metadata": {},
   "outputs": [
    {
     "data": {
      "text/html": [
       "<div>\n",
       "<style scoped>\n",
       "    .dataframe tbody tr th:only-of-type {\n",
       "        vertical-align: middle;\n",
       "    }\n",
       "\n",
       "    .dataframe tbody tr th {\n",
       "        vertical-align: top;\n",
       "    }\n",
       "\n",
       "    .dataframe thead th {\n",
       "        text-align: right;\n",
       "    }\n",
       "</style>\n",
       "<table border=\"1\" class=\"dataframe\">\n",
       "  <thead>\n",
       "    <tr style=\"text-align: right;\">\n",
       "      <th></th>\n",
       "      <th>EnsemlID</th>\n",
       "      <th>WT_interaction_score</th>\n",
       "    </tr>\n",
       "  </thead>\n",
       "  <tbody>\n",
       "    <tr>\n",
       "      <th>9328</th>\n",
       "      <td>ENSG00000128274</td>\n",
       "      <td>0.602571</td>\n",
       "    </tr>\n",
       "    <tr>\n",
       "      <th>9332</th>\n",
       "      <td>ENSG00000094914</td>\n",
       "      <td>3.401533</td>\n",
       "    </tr>\n",
       "    <tr>\n",
       "      <th>9336</th>\n",
       "      <td>ENSG00000129673</td>\n",
       "      <td>0.764934</td>\n",
       "    </tr>\n",
       "    <tr>\n",
       "      <th>9337</th>\n",
       "      <td>ENSG00000129673</td>\n",
       "      <td>-1.042249</td>\n",
       "    </tr>\n",
       "    <tr>\n",
       "      <th>9338</th>\n",
       "      <td>ENSG00000183044</td>\n",
       "      <td>0.141185</td>\n",
       "    </tr>\n",
       "    <tr>\n",
       "      <th>...</th>\n",
       "      <td>...</td>\n",
       "      <td>...</td>\n",
       "    </tr>\n",
       "    <tr>\n",
       "      <th>11723</th>\n",
       "      <td>ENSG00000204644</td>\n",
       "      <td>1.925495</td>\n",
       "    </tr>\n",
       "    <tr>\n",
       "      <th>11725</th>\n",
       "      <td>ENSG00000155256</td>\n",
       "      <td>1.251179</td>\n",
       "    </tr>\n",
       "    <tr>\n",
       "      <th>11726</th>\n",
       "      <td>ENSG00000172466</td>\n",
       "      <td>1.847833</td>\n",
       "    </tr>\n",
       "    <tr>\n",
       "      <th>11727</th>\n",
       "      <td>ENSG00000147124</td>\n",
       "      <td>-0.687144</td>\n",
       "    </tr>\n",
       "    <tr>\n",
       "      <th>11729</th>\n",
       "      <td>ENSG00000197566</td>\n",
       "      <td>-0.006089</td>\n",
       "    </tr>\n",
       "  </tbody>\n",
       "</table>\n",
       "<p>1040 rows × 2 columns</p>\n",
       "</div>"
      ],
      "text/plain": [
       "              EnsemlID  WT_interaction_score\n",
       "9328   ENSG00000128274              0.602571\n",
       "9332   ENSG00000094914              3.401533\n",
       "9336   ENSG00000129673              0.764934\n",
       "9337   ENSG00000129673             -1.042249\n",
       "9338   ENSG00000183044              0.141185\n",
       "...                ...                   ...\n",
       "11723  ENSG00000204644              1.925495\n",
       "11725  ENSG00000155256              1.251179\n",
       "11726  ENSG00000172466              1.847833\n",
       "11727  ENSG00000147124             -0.687144\n",
       "11729  ENSG00000197566             -0.006089\n",
       "\n",
       "[1040 rows x 2 columns]"
      ]
     },
     "execution_count": 47,
     "metadata": {},
     "output_type": "execute_result"
    }
   ],
   "source": [
    "(chaperome[(chaperome['Quality_control_factor_common'] == 'HSC70')][['EnsemlID', 'WT_interaction_score']].drop_duplicates())"
   ]
  },
  {
   "cell_type": "code",
   "execution_count": 27,
   "metadata": {},
   "outputs": [],
   "source": [
    "hsp90_int.to_csv('../../Body/2_Derived/hsp90_clients.Elisa_more_0.2.WT_interaction_score.csv', header = True, index=False)"
   ]
  },
  {
   "cell_type": "code",
   "execution_count": 30,
   "metadata": {},
   "outputs": [
    {
     "data": {
      "text/plain": [
       "(146, 2)"
      ]
     },
     "execution_count": 30,
     "metadata": {},
     "output_type": "execute_result"
    }
   ],
   "source": [
    "hsp90_int[hsp90_int['WT_interaction_score'] >=3].shape"
   ]
  },
  {
   "cell_type": "markdown",
   "metadata": {},
   "source": [
    "#### Я фильтрую по WT_interaction_score >= 1, возможно, что порог должен быть больше."
   ]
  },
  {
   "cell_type": "code",
   "execution_count": 22,
   "metadata": {},
   "outputs": [
    {
     "name": "stdout",
     "output_type": "stream",
     "text": [
      "ENSG00000096384\tENSG00000106993\n",
      "ENSG00000096384\tENSG00000110172\n"
     ]
    }
   ],
   "source": [
    "for edge in interactome:\n",
    "    if 'ENSG00000096384' in edge:\n",
    "        print(edge)"
   ]
  },
  {
   "cell_type": "code",
   "execution_count": 23,
   "metadata": {},
   "outputs": [],
   "source": [
    "for _id in chaperome[(chaperome['Quality_control_factor_common'] == 'HSP90') & (chaperome['WT_interaction_score'] > 0) & (chaperome['EnsemlID'] != 0)]['EnsemlID'].unique():\n",
    "    if _id in ['ENSG00000106993','ENSG00000110172']:\n",
    "        print(_id)"
   ]
  },
  {
   "cell_type": "markdown",
   "metadata": {},
   "source": [
    "В референсном человеческом интерактоме всего 2 взаимодействия с HSP90, которых нет среди взаимодействий из статьи."
   ]
  },
  {
   "cell_type": "markdown",
   "metadata": {},
   "source": [
    "### Теперь посмотрим на HSC70"
   ]
  },
  {
   "cell_type": "code",
   "execution_count": 24,
   "metadata": {},
   "outputs": [
    {
     "data": {
      "text/plain": [
       "817"
      ]
     },
     "execution_count": 24,
     "metadata": {},
     "output_type": "execute_result"
    }
   ],
   "source": [
    "hsc70_int = (chaperome[(chaperome['Quality_control_factor_common'] == 'HSC70')  & (chaperome['EnsemlID'] != 0) & (chaperome['WT_ELISA_score'] > 0.2)][['EnsemlID', 'WT_interaction_score']].drop_duplicates())\n",
    "len(hsc70_int)"
   ]
  },
  {
   "cell_type": "code",
   "execution_count": 28,
   "metadata": {},
   "outputs": [],
   "source": [
    "hsc70_int.to_csv('../../Body/2_Derived/hsc70_clients.Elisa_more_0.2.WT_interaction_score.csv', header = True, index=False)"
   ]
  },
  {
   "cell_type": "code",
   "execution_count": 32,
   "metadata": {},
   "outputs": [
    {
     "data": {
      "text/plain": [
       "(110, 2)"
      ]
     },
     "execution_count": 32,
     "metadata": {},
     "output_type": "execute_result"
    }
   ],
   "source": [
    "hsc70_int[hsc70_int['WT_interaction_score'] >=3].shape"
   ]
  },
  {
   "cell_type": "code",
   "execution_count": 25,
   "metadata": {},
   "outputs": [
    {
     "name": "stdout",
     "output_type": "stream",
     "text": [
      "ENSG00000107262\tENSG00000109971\n",
      "ENSG00000109971\tENSG00000112343\n",
      "ENSG00000109971\tENSG00000123609\n",
      "ENSG00000109971\tENSG00000133265\n",
      "ENSG00000109971\tENSG00000151929\n",
      "ENSG00000109971\tENSG00000156735\n"
     ]
    }
   ],
   "source": [
    "for edge in interactome:\n",
    "    if 'ENSG00000109971' in edge:\n",
    "        print(edge)"
   ]
  },
  {
   "cell_type": "code",
   "execution_count": 29,
   "metadata": {},
   "outputs": [],
   "source": [
    "for _id in chaperome[(chaperome['Quality_control_factor_common'] == 'HSC70') & (chaperome['WT_interaction_score'] > 0) & (chaperome['EnsemlID'] != 0)]['EnsemlID'].unique():\n",
    "    if _id in ['ENSG00000107262','ENSG00000112343', 'ENSG00000123609', 'ENSG00000133265', 'ENSG00000151929', 'ENSG00000156735']:\n",
    "        print(_id)"
   ]
  },
  {
   "cell_type": "markdown",
   "metadata": {},
   "source": [
    "А для HSC70 6, и также ни одного пересечения\n"
   ]
  },
  {
   "cell_type": "markdown",
   "metadata": {},
   "source": [
    " "
   ]
  },
  {
   "cell_type": "markdown",
   "metadata": {},
   "source": [
    " "
   ]
  },
  {
   "cell_type": "code",
   "execution_count": 33,
   "metadata": {},
   "outputs": [],
   "source": [
    "def intersection(lst1, lst2): \n",
    "    lst3 = [value for value in lst1 if value in lst2] \n",
    "    return lst3 "
   ]
  },
  {
   "cell_type": "code",
   "execution_count": 38,
   "metadata": {},
   "outputs": [
    {
     "data": {
      "text/plain": [
       "70"
      ]
     },
     "execution_count": 38,
     "metadata": {},
     "output_type": "execute_result"
    }
   ],
   "source": [
    "len(intersection(list(hsc70_int[hsc70_int['WT_interaction_score'] >=3]['EnsemlID']), list(hsp90_int[hsp90_int['WT_interaction_score'] >=3]['EnsemlID'])))"
   ]
  },
  {
   "cell_type": "markdown",
   "metadata": {},
   "source": [
    "Число общих клиентов для HSC70 и HSP90 - 211"
   ]
  },
  {
   "cell_type": "markdown",
   "metadata": {},
   "source": [
    "## Сделаем таблицу со всеми клиентами и запишем ее в файл"
   ]
  },
  {
   "cell_type": "code",
   "execution_count": 39,
   "metadata": {},
   "outputs": [],
   "source": [
    "hsp90_int = list(hsp90_int[hsp90_int['WT_interaction_score'] >=3]['EnsemlID'])\n",
    "hsc70_int = list(hsc70_int[hsc70_int['WT_interaction_score'] >=3]['EnsemlID'])"
   ]
  },
  {
   "cell_type": "code",
   "execution_count": 40,
   "metadata": {},
   "outputs": [],
   "source": [
    "clients_list = set(list(hsc70_int) + list(hsp90_int))"
   ]
  },
  {
   "cell_type": "code",
   "execution_count": 41,
   "metadata": {},
   "outputs": [],
   "source": [
    "clients = pd.DataFrame({'clients' : list(clients_list), 'HSP90AB1': False, 'HSPA8' : False})"
   ]
  },
  {
   "cell_type": "code",
   "execution_count": 42,
   "metadata": {},
   "outputs": [],
   "source": [
    "for client in clients_list:\n",
    "    if client in hsp90_int:\n",
    "        clients.loc[clients[clients['clients'] == client].index, 'HSP90AB1'] = True\n",
    "    if client in hsc70_int:\n",
    "        clients.loc[clients[clients['clients'] == client].index, 'HSPA8'] = True"
   ]
  },
  {
   "cell_type": "code",
   "execution_count": 45,
   "metadata": {},
   "outputs": [
    {
     "data": {
      "text/plain": [
       "(183, 3)"
      ]
     },
     "execution_count": 45,
     "metadata": {},
     "output_type": "execute_result"
    }
   ],
   "source": [
    "clients.shape"
   ]
  },
  {
   "cell_type": "code",
   "execution_count": 44,
   "metadata": {},
   "outputs": [],
   "source": [
    "clients.to_csv('../../Body/2_Derived/Chaperone-Protein_Interaction_hsp90_hsc70_clients_int_score_more_three.csv', header = True, index=False)"
   ]
  },
  {
   "cell_type": "code",
   "execution_count": null,
   "metadata": {},
   "outputs": [],
   "source": []
  }
 ],
 "metadata": {
  "kernelspec": {
   "display_name": "Python 3 (ipykernel)",
   "language": "python",
   "name": "python3"
  },
  "language_info": {
   "codemirror_mode": {
    "name": "ipython",
    "version": 3
   },
   "file_extension": ".py",
   "mimetype": "text/x-python",
   "name": "python",
   "nbconvert_exporter": "python",
   "pygments_lexer": "ipython3",
   "version": "3.9.12"
  }
 },
 "nbformat": 4,
 "nbformat_minor": 2
}
